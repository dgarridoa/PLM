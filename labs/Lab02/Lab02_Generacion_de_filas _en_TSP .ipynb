{
 "cells": [
  {
   "cell_type": "markdown",
   "metadata": {},
   "source": [
    "# Instrucciones.\n",
    "\n",
    "En el laboratorio realice las siguientes tareas\n",
    "\n",
    "* Complete la celda \"A. Datos grupo\".\n",
    "* Descargue los archivos de instancias de ucursos.\n",
    "* Complete la sección \"B. preparación\"\n",
    "* Lea el enunciado y complete los ejercicios 1, 2 y 3.\n",
    "* Envie el archivo .ipynb por el modulo de tareas de ucursos en la TAREA: Laboratorio 2 presencial \n",
    "* Plazo de entrega:  Miércoles 6 de mayo las 18:00\n",
    "\n",
    "La parte no presencial del laboratorio corresponde a los ejercicios 4, 5 y 6.\n",
    "Se recomienda realizar esta parte durante el laboratorio, pero tiene tiempo de entrega hasta el día Viernes 8 de mayo a las 22:00\n",
    "\n",
    "* Complete todos los ejercicios\n",
    "* Envie el archivo .ipynb por el modulo de tareas de ucursos en la TAREA: Laboratorio 2 completo\n",
    "* Plazo de entrega: Viernes 8 de mayo a las 22:00 \n",
    "  (puede solicitar por correo electrónico plazo adicional si lo necesita, pero su solicitud debe hacerse antes del Viernes 8 a    las 22:00. No es automático)\n"
   ]
  },
  {
   "cell_type": "markdown",
   "metadata": {},
   "source": [
    "# A. Datos grupo\n",
    "\n",
    "Escriba en esta celda el nombre de cada integrante de su grupo.\n",
    "\n",
    "- Integrante 1: XXX\n",
    "\n",
    "- Integrante 2: YYY"
   ]
  },
  {
   "cell_type": "markdown",
   "metadata": {},
   "source": [
    "# B. Preparación\n",
    "\n",
    "* Usaremos los paquetes JuMP, Gurobi, Distances y Plots.\n",
    "  Descomente las lineas si no tiene los paquetes y asegúrese de tener la última versión de JuMP corriendo (0.21.2 en mayo 2020)"
   ]
  },
  {
   "cell_type": "code",
   "execution_count": 6,
   "metadata": {},
   "outputs": [
    {
     "name": "stdout",
     "output_type": "stream",
     "text": [
      "\u001b[32m\u001b[1m     Status\u001b[22m\u001b[39m `~/.juliapro/JuliaPro_v1.3.1-1/environments/v1.3/Project.toml`\n",
      "\u001b[90m   4076af6c \u001b[39m\u001b[37mJuMP v0.21.2 `https://github.com/JuliaOpt/JuMP.jl/#master`\u001b[39m\n"
     ]
    }
   ],
   "source": [
    "import Pkg\n",
    "#Pkg.add(\"Distances\")\n",
    "#Pkg.add(\"Plots\")\n",
    "#Pkg.update(\"JuMP\")\n",
    "Pkg.status(\"JuMP\")"
   ]
  },
  {
   "cell_type": "code",
   "execution_count": 7,
   "metadata": {},
   "outputs": [
    {
     "name": "stdout",
     "output_type": "stream",
     "text": [
      "Academic license - for non-commercial use only\n"
     ]
    },
    {
     "name": "stderr",
     "output_type": "stream",
     "text": [
      "WARNING: redefining constant GUROBI_ENV\n"
     ]
    },
    {
     "data": {
      "text/plain": [
       "Gurobi.Env(Ptr{Nothing} @0x0000000004c21470)"
      ]
     },
     "execution_count": 7,
     "metadata": {},
     "output_type": "execute_result"
    }
   ],
   "source": [
    "using JuMP, Gurobi, Distances, Plots\n",
    "const GUROBI_ENV = Gurobi.Env() #Esta referencia  nos servirá para usar solo un ambiente de Gurobi."
   ]
  },
  {
   "cell_type": "markdown",
   "metadata": {},
   "source": [
    "* En este problema calcularemos tours que pasan por ciudades en el plano, para cargar los archivos de entrada y visualizar estos tours usaremos algunas funciones pre-escritas. El archivo \"preparacion.jl\", escrito a continuación, tiene las funciones que necesitaremos.\n",
    "\n",
    "```julia\n",
    "dibuja(coordx,coordy,arcos)\n",
    "## Recibe dos arreglos de N valores donde (coordx[i],coordy[i]) son las coordenadas de la ciudad i\n",
    "## Recibe además una matriz arcos de N x N, donde arcos[i,j] es el peso del arco [i,j]\n",
    "## Dibuja los N puntos en el plano y dibuja los arcos con ancho de linea proporcional al peso.\n",
    "\n",
    "lee_archivo(nombre_archivo)\n",
    "## Recibe un archivo con las coordenadas de N ciudades, devolviendo N, las coordenadas x, las coordenadas y.\n",
    "\n",
    "encuentra_ciclo(arcos)\n",
    "#Si arcos es una matriz 0-1 (o cercana a serlo) tal que el nodo 1 está en un único ciclo, esta función lo reporta.\n",
    "```\n",
    "\n",
    "* Cargue el archivo usando el siguiente comando."
   ]
  },
  {
   "cell_type": "code",
   "execution_count": 8,
   "metadata": {},
   "outputs": [
    {
     "ename": "ErrorException",
     "evalue": "could not open file /home/dgarrido/Insync/diego.garrido@ug.uchile.cl/Google Drive/PLM/code/labs/Lab02/preparacion.jl",
     "output_type": "error",
     "traceback": [
      "could not open file /home/dgarrido/Insync/diego.garrido@ug.uchile.cl/Google Drive/PLM/code/labs/Lab02/preparacion.jl",
      "",
      "Stacktrace:",
      " [1] include at ./boot.jl:328 [inlined]",
      " [2] include_relative(::Module, ::String) at ./loading.jl:1105",
      " [3] include(::Module, ::String) at ./Base.jl:31",
      " [4] include(::String) at ./client.jl:424",
      " [5] top-level scope at In[8]:1"
     ]
    }
   ],
   "source": [
    "include(\"preparacion.jl\");"
   ]
  },
  {
   "cell_type": "markdown",
   "metadata": {},
   "source": [
    "* Pruebe las funciones auxiliares cargando el archivo \"ejemplo.txt\" (con 25 puntos), y dandole peso a algunas aristas como sigue:"
   ]
  },
  {
   "cell_type": "code",
   "execution_count": 4,
   "metadata": {
    "scrolled": false
   },
   "outputs": [
    {
     "ename": "UndefVarError",
     "evalue": "UndefVarError: lee_archivo not defined",
     "output_type": "error",
     "traceback": [
      "UndefVarError: lee_archivo not defined",
      "",
      "Stacktrace:",
      " [1] top-level scope at In[4]:1"
     ]
    }
   ],
   "source": [
    "N,x_pos,y_pos=lee_archivo(\"ejemplo.txt\")\n",
    "aristas_ejemplo=zeros(N,N)\n",
    "aristas_ejemplo[11,14]=1\n",
    "aristas_ejemplo[1,20]=0.1\n",
    "aristas_ejemplo[18,23]=0.5\n",
    "dibuja(x_pos,y_pos,aristas_ejemplo)"
   ]
  },
  {
   "cell_type": "code",
   "execution_count": 5,
   "metadata": {},
   "outputs": [
    {
     "ename": "UndefVarError",
     "evalue": "UndefVarError: N not defined",
     "output_type": "error",
     "traceback": [
      "UndefVarError: N not defined",
      "",
      "Stacktrace:",
      " [1] top-level scope at In[5]:1"
     ]
    }
   ],
   "source": [
    "ciclo_ejemplo=zeros(N,N)\n",
    "ciclo_ejemplo[1,7]=1\n",
    "ciclo_ejemplo[7,23]=1\n",
    "ciclo_ejemplo[23,5]=1\n",
    "ciclo_ejemplo[5,1]=1\n",
    "dibuja(x_pos,y_pos,ciclo_ejemplo)\n",
    "encuentra_ciclo(ciclo_ejemplo)"
   ]
  },
  {
   "cell_type": "markdown",
   "metadata": {},
   "source": [
    "# C. MTZ para el problema del vendedor viajero.\n",
    "\n",
    "En el problema del vendedor viajero (TSP), recibimos N ciudades del plano y deseamos encontrar un tour (ciclo) que pase por cada punto exactamente una vez, de largo total mínimo. Este problema es NP-completo y difícil de abordar en toda generalidad.\n",
    "En este laboratorio describiremos un programa entero de tamaño exponencial (en N) para resolver TSP, y luego usaremos técnicas de generación de filas para resolver este problema.\n",
    "\n",
    "Hay *varias* formas de modelar TSP como PLE, algunas de ellas tienen tamaño polinomial. Para esto supondremos que $d(i,j)$ es la distancia del punto $i$ al punto $j$ y $z_{i,j}$ es la indicatriz del arco $(i,j)$ en el tour.\n",
    "\n",
    "Por ejemplo, el siguiente modelo conocido como MTZ (Miller, Tucker, Zemlin) tiene \"solo\" $O(N^2)$ variables y restricciones.\n",
    "(La variable $u_i$ representa la manera el orden en el cual son visitados los nodos).\n",
    "\n",
    "\\begin{align*}\n",
    "(\\text{MTZ})\\qquad \\min \\sum_{i=1}^N\\sum_{j=1}^N z_{i,j}d(i,j)&\\\\\n",
    "z_{i,i}&=0,&\\forall i\\in [N]\\\\\n",
    "\\sum_{j=1}^N z_{i,j} &= 1,& \\forall i\\in [N]\\\\\n",
    "\\sum_{j=1}^N z_{j,i} &= 1,&\\forall i\\in [N]\\\\\n",
    "u_i−u_j+(N−1)z_{i,j}&\\leq N−2, &\\forall i,j \\in [N], i\\geq 2, j\\geq 2\\\\\n",
    "z &\\in \\{0,1\\}^{[N]\\times [N]}\\\\\n",
    "u&\\in \\mathbb{R}^{[N]\\setminus \\{1\\}}\n",
    "\\end{align*}\n",
    "\n",
    "Sin embargo, en la práctica no es muy efectivo. Para 25 ciudades ya toma algunos segundos como se ve a continuación.\n",
    "Para grandes cantidades de ciudades se vuelve muy lento pues la formulación está muy lejos de ser exacta.\n",
    "\n",
    "Al principio del laboratorio probemos el modelo MTZ (nos servirá para recordar como se escribe un PLM)"
   ]
  },
  {
   "cell_type": "code",
   "execution_count": null,
   "metadata": {},
   "outputs": [],
   "source": [
    "function resuelveMTZ(nombre_archivo)\n",
    "## Resuelve MTZ, devuelve el valor, el ciclo, y dibuja la solución\n",
    "  \n",
    "    #Cargar datos del archivo\n",
    "    N,x_pos,y_pos = lee_archivo(nombre_archivo)\n",
    "\n",
    "    #Crear un modelo nuevo. \n",
    "    #la variable GUROBI_ENV creada en el archivo preparación nos permite reutilizar el ambiente de Gurobi\n",
    "    #en vez de crear uno nuevo cada vez que creamos un modelo (en particular, ya no saldrán múltiples\n",
    "    #mensajes sobre la licencia académica)\n",
    "    #(esta sintaxis se usa a partir de Jump 0.21)\n",
    "    MTZ = Model(optimizer_with_attributes(() -> Gurobi.Optimizer(GUROBI_ENV),\"OutputFlag\" => 1))\n",
    "\n",
    "    #Crear variables, z es binaria, u es real.\n",
    "    @variable(MTZ, z[1:N,1:N], Bin)\n",
    "    @variable(MTZ, u[2:N])\n",
    "\n",
    "    #Crear objetivo (usamos \"euclidean\" del paquete Distances para calcular la distancia euclideana)\n",
    "    @objective(MTZ, Min, sum(z[i,j]*euclidean([x_pos[i],y_pos[i]],[x_pos[j],y_pos[j]]) for i=1:N,j=1:N))\n",
    "\n",
    "    #Crear restricciones\n",
    "    @constraints(MTZ, begin\n",
    "        self[i=1:N], z[i,i]==0\n",
    "        salida[i=1:N], sum(z[i,1:N])==1\n",
    "        entrada[i=1:N], sum(z[1:N,i])==1\n",
    "        prioridad[i=2:N, j=2:N], u[i]-u[j]+N*z[i,j]<=N-1\n",
    "    end)\n",
    "    \n",
    "    #optimizar! (el modelo es siempre factible)\n",
    "    optimize!(MTZ)\n",
    "    \n",
    "    #dibuja y retorna\n",
    "    valor =  objective_value(MTZ)\n",
    "    vector = value.(z) \n",
    "    ciclo = encuentra_ciclo(vector)\n",
    "    dibuja(x_pos,y_pos,vector)\n",
    "    return valor, ciclo\n",
    "end"
   ]
  },
  {
   "cell_type": "code",
   "execution_count": null,
   "metadata": {},
   "outputs": [],
   "source": [
    "@time valor,ciclo=resuelveMTZ(\"ejemplo.txt\")\n",
    "println(\"Valor= \",valor)\n",
    "println(\"Ciclo= \",ciclo)"
   ]
  },
  {
   "cell_type": "markdown",
   "metadata": {},
   "source": [
    "# D. DFZ para el problema del vendedor viajero."
   ]
  },
  {
   "cell_type": "markdown",
   "metadata": {},
   "source": [
    "## D1. Implementación mediante generación de filas y resolución iterativa de PLE.\n",
    "\n",
    "En este laboratorio estudiaremos otro modelo para TSP mucho más efectivo, pero con una cantidad exponencial de restricciones.\n",
    "El siguiente es el modelo DFZ (Dantzig-Fulkerson-Johnson)\n",
    "\n",
    "\\begin{align*}\n",
    "(\\text{DFZ})\\qquad \\min &\\sum_{i=1}^N\\sum_{j=1}^N z_{i,j}d(i,j)\\\\\n",
    "z_{i,i}&=0,& \\forall i\\in [N]\\\\\n",
    "\\sum_{j=1}^N z_{i,j} &= 1,& \\forall i\\in [N]\\\\\n",
    "\\sum_{j=1}^N z_{j,i} &= 1,& \\forall i\\in [N]\\\\\n",
    "z_{i,j}+z_{j,i}&\\leq 1,& \\forall i,j\\in[N]\\\\\n",
    "z(\\delta^+(S)) &\\geq 1,& \\forall S\\subseteq [N], S\\neq N, 1\\in S. (\\text{corte}(S))\\\\\n",
    "z &\\in \\{0,1\\}^{[N]\\times [N]}\n",
    "\\end{align*}\n"
   ]
  },
  {
   "cell_type": "markdown",
   "metadata": {},
   "source": [
    "El modelo DFZ posee una cantidad exponencial de restricciones de tipo (corte). Esto hace intractable escribir todas las restricciones y luego usar un solver para resolverlo. En lugar de eso tomaremos la siguiente ruta.\n",
    "\n",
    "1. Generar modelo con variables **integrales** sin restricción de corte y resolverlo.\n",
    "   Notar que si $z$ es el vector solución entonces $z$ es unión de ciclos. \n",
    "2. Mientras $z$ tenga más de un ciclo, buscar un ciclo $C$ y llamar $S=V(C)$, notar que la restricción $z(\\delta^+(S))\\geq 1$ no está satisfecha y luego podemos **agregar al modelo la restricción corte($S$) y volver a resolver**\n",
    "3. Cuando $z$ tenga un solo ciclo, ésta será la solución óptima."
   ]
  },
  {
   "cell_type": "markdown",
   "metadata": {},
   "source": [
    "## Ejercicio 1\n",
    "\n",
    "Cree el modelo DFZ en Gurobi **sin incluir las restricciones de corte** completando la siguiente celda. \n",
    "\n",
    "Luego resuélvalo y dibuje la salida usando la función dibujar. "
   ]
  },
  {
   "cell_type": "code",
   "execution_count": null,
   "metadata": {},
   "outputs": [],
   "source": [
    "#Cargar nuevamente los datos de ejemplo (esto es para fijar los nombres de las variable)\n",
    "N,x_pos,y_pos=lee_archivo(\"ejemplo.txt\")\n",
    "#Modelo DFZ\n",
    "DFZ = Model(optimizer_with_attributes(() -> Gurobi.Optimizer(GUROBI_ENV),\"OutputFlag\" => 0)) #sin salida esta vez\n",
    "\n",
    "#cree variables, objetivo y restricciones\n",
    "@variable(..\n",
    "@objective(..\n",
    "@constraints(.."
   ]
  },
  {
   "cell_type": "code",
   "execution_count": null,
   "metadata": {},
   "outputs": [],
   "source": [
    "#complete los comandos para optimizar y dibujar\n",
    "optimize!(..\n",
    "dibuja(.."
   ]
  },
  {
   "cell_type": "markdown",
   "metadata": {},
   "source": [
    "## Ejercicio 2 \n",
    "\n",
    "La función *encuentra_ciclo* (del archivo preparacion.jl) detecta el único ciclo que pasa por la ciudad 1 en un grafo que es unión de ciclos. Ejecute la función encuentra_ciclo en la matriz value.(z) con los valores encontrados por DFZ. Luego agregue a DFZ la restricción asociada al corte encontrado. Optimize y dibuje su nueva solución."
   ]
  },
  {
   "cell_type": "code",
   "execution_count": null,
   "metadata": {},
   "outputs": [],
   "source": [
    "# Ejecutar función\n",
    "ciclo=encuentra_ciclo(..\n",
    "\n",
    "#agregar nueva fila (restricción) a DFZ \n",
    "#(indicación: setdiff(1:N, H) devuelve la diferencia entre el conjunto [N] y los elementos de un arreglo H)\n",
    "@constraint(DFZ,.. \n",
    "\n",
    "#optimize nuevamente y dibuje\n",
    "optimize!(..\n",
    "dibujar(.."
   ]
  },
  {
   "cell_type": "markdown",
   "metadata": {
    "scrolled": false
   },
   "source": [
    "## Ejercicio 3\n",
    "\n",
    "En este ejercicio debe automatizar la generación de filas. Para esto\n",
    "\n",
    "### 3.1) \n",
    "Complete primero la siguiente plantilla"
   ]
  },
  {
   "cell_type": "code",
   "execution_count": null,
   "metadata": {},
   "outputs": [],
   "source": [
    "function resuelveDFZ(nombre_archivo)\n",
    "    # recuperar N y puntos del archivo \n",
    "    ..\n",
    "    \n",
    "    # Crear modelo DFZ inicial \n",
    "    DFZ = Model(optimizer_with_attributes(() -> Gurobi.Optimizer(GUROBI_ENV),\"OutputFlag\" => 0)) #sin salida esta vez\n",
    "    ..\n",
    "    ..\n",
    "    ..\n",
    "    \n",
    "    itera=1\n",
    "    while (true) \n",
    "        \n",
    "        ## optimizar\n",
    "        optimize!(DFZ)\n",
    "        \n",
    "        ## encontrar el ciclo que contiene a 1\n",
    "        ciclo = ..\n",
    "        \n",
    "        ## si el ciclo pasa por las N ciudades, calcular el valor del tour, escribir el ciclo y dibujarlo.\n",
    "        if ..\n",
    "            valorTour=..\n",
    "            display(string(\"Número de iteraciones: \", itera))\n",
    "            display(string(\"Tour óptimo encontrado, de largo \", valorTour))\n",
    "            display(string(\"Lista de ciudades :\", ciclo))\n",
    "            dibuja(..\n",
    "            return nothing\n",
    "        else\n",
    "            ## añadir a DFZ restricción de corte nuevo\n",
    "            @constraint(..\n",
    "        end     \n",
    "    itera=itera+1\n",
    "    end  \n",
    "end"
   ]
  },
  {
   "cell_type": "markdown",
   "metadata": {},
   "source": [
    "### 3.2) \n",
    "Ejecute su funcion en tres instancias (i30.txt, i40.txt, i50.txt), encontrando los tours óptimos"
   ]
  },
  {
   "cell_type": "code",
   "execution_count": null,
   "metadata": {},
   "outputs": [],
   "source": [
    "resuelveDFZ(.."
   ]
  },
  {
   "cell_type": "code",
   "execution_count": null,
   "metadata": {},
   "outputs": [],
   "source": [
    "resuelveDFZ(.."
   ]
  },
  {
   "cell_type": "code",
   "execution_count": null,
   "metadata": {},
   "outputs": [],
   "source": [
    "resuelveDFZ(.."
   ]
  },
  {
   "cell_type": "markdown",
   "metadata": {},
   "source": [
    "## D2. Implementación mediante generación de filas usando lazy-constraints-callbacks.\n",
    "\n",
    "La técnica anterior permite resolver TSP para instancias de tamaño moderado resolviendo una serie de PLE\n",
    "con más y más restricciones. Notamos que en cada uno de estos PLE, el solver debe realizar branch and bound \n",
    "(o más precisamente branch and cut), sin necesariamente reutilizar el trabajo anterior.\n",
    "\n",
    "Una manera de hacer este proceso de manera más eficiente es realizar una sola ejecución de branch and cut \n",
    "y agregar estas restricciones al modelo no al final del mismo si no cada vez que se encuentra un incumbente.\n",
    "Los solvers modernos permiten pausar branch and bound en algunos puntos clave, luego llamar a una función externa\n",
    "y finalmente despausar la ejecución (a esto se le llama un callback).\n",
    "\n",
    "En esta sección implementaremos una función callback del tipo lazy-constraint.\n",
    "Básicamente una lazy-constraint es una restricción que no se revisa desde el principio de la ejecución si no que solo\n",
    "es agregada al modelo una vez que encontramos un incumbente que no la satisface.\n",
    "\n",
    "Es posible darle al solver una lista de lazy-constraints desde el principio o generarla via callbacks.\n",
    "\n",
    "El modo de implementar una función callback en jump+gurobi (en genérico) es como sigue:\n",
    "```julia\n",
    "    #se crea un modelo (para este ejemplo, supongamos que tiene una variable x\n",
    "    model = Model(... \n",
    "    @variable(model, x, ...\n",
    "    @objective(\n",
    "    @constraints(\n",
    "\n",
    "    #esta función se llamará cuando Gurobi piensa que tiene una solución entera incumbente\n",
    "    function mi_callback(cb_data)\n",
    "        #comando para recuperar valor de la variable x y guardarlo en una variable temporal\n",
    "        x_val = callback_value(cb_data, x)\n",
    "\n",
    "        #Nota: la implementación actual de Gurobi podría llamar a esta función cuando la solución es fraccional por lo\n",
    "        #      que conviene revisar integralidad.\n",
    "        \n",
    "        tolerancia=0.001\n",
    "        if !(abs(x-round(x))<tolerancia)\n",
    "          display(string(\"callback en solución fraccional\"))\n",
    "          return nothing\n",
    "        end\n",
    "        \n",
    "        #sabemos que x es integral\n",
    "        # buscar restriccion a agregar\n",
    "        ..\n",
    "        restriccion_nueva = @build_constraint( .. restriccion ..)\n",
    "        MOI.submit(model, MOI.LazyConstraint(cb_data), restriccion)\n",
    "        end\n",
    "    end\n",
    "\n",
    "    #mandar función callback al solver.\n",
    "    MOI.set(model, MOI.LazyConstraintCallback(), mi_callback)\n",
    "\n",
    "    #si optimizamos, el solver usará la función callback para confirmar factibilidad de sus soluciones, agregando\n",
    "    #restricciones si es necesario\n",
    "```"
   ]
  },
  {
   "cell_type": "markdown",
   "metadata": {},
   "source": [
    "## Ejercicio 4. \n",
    "\n",
    "### 4.1) \n",
    "Complete la siguiente función para resolver DFZ usando callbacks.\n"
   ]
  },
  {
   "cell_type": "code",
   "execution_count": null,
   "metadata": {},
   "outputs": [],
   "source": [
    "function resuelveDFZconCallbacks(nombre_archivo)\n",
    "    # recuperar N y puntos del archivo \n",
    "    ..\n",
    "    \n",
    "    # Crear modelo DFZCall inicial \n",
    "    DFZCall = Model(optimizer_with_attributes(() -> Gurobi.Optimizer(GUROBI_ENV),\"OutputFlag\" => 0)) \n",
    "    @variable(..  \n",
    "    @objective(..\n",
    "    @constraints(..\n",
    "                \n",
    "    #implementar función callback\n",
    "                \n",
    "    function mi_callback(cb_data)\n",
    "        display(string(\"Ejecutando callback\"))\n",
    " \n",
    "        ##Recupera variables z de cb_data\n",
    "        z_val=zeros(N,N)\n",
    "        for i=1:N, j=1:N\n",
    "            z_val[i,j] = callback_value(cb_data, z[i,j])\n",
    "        end    \n",
    "        \n",
    "        ##Revisar fraccionalidad\n",
    "        tolerancia=0.001\n",
    "        if (!all( x-> abs(x-round(x))<tolerancia, z_val))\n",
    "          display(string(\"callback en solución fraccional\"))\n",
    "          return nothing\n",
    "        end\n",
    "        \n",
    "        ## encontrar el ciclo que contiene a 1\n",
    "        ciclo = ...\n",
    "        \n",
    "        if (...) ## si el ciclo no pasa por las N ciudades\n",
    "            display(string(\"Agregando corte: \", ciclo))\n",
    "            restriccion_nueva = @build_constraint(..\n",
    "            MOI.submit(...\n",
    "        end\n",
    "    end                        \n",
    "    \n",
    "    MOI.set(...\n",
    "\n",
    "    #Optimizar, reportar solución y dibujar.\n",
    "    optimize!(DFZCall)\n",
    "    valorTour =..\n",
    "    ciclo =..\n",
    "    display(string(\"Tour óptimo encontrado, de largo \", valorTour))\n",
    "    display(string(\"Lista de ciudades :\", ciclo))\n",
    "    dibuja(..\n",
    "    return valorTour, ciclo\n",
    "end    "
   ]
  },
  {
   "cell_type": "markdown",
   "metadata": {},
   "source": [
    "### 4.2) \n",
    "Ejecute su funcion en cuatro instancias (ejemplo.txt, i30.txt, i40.txt, i50.txt), encontrando los tours óptimos."
   ]
  },
  {
   "cell_type": "code",
   "execution_count": null,
   "metadata": {},
   "outputs": [],
   "source": [
    "resuelveDFZconCallbacks(.."
   ]
  },
  {
   "cell_type": "code",
   "execution_count": null,
   "metadata": {},
   "outputs": [],
   "source": [
    "resuelveDFZconCallbacks(.."
   ]
  },
  {
   "cell_type": "code",
   "execution_count": null,
   "metadata": {},
   "outputs": [],
   "source": [
    "resuelveDFZconCallbacks(.."
   ]
  },
  {
   "cell_type": "code",
   "execution_count": null,
   "metadata": {},
   "outputs": [],
   "source": [
    "resuelveDFZconCallbacks(.."
   ]
  },
  {
   "cell_type": "markdown",
   "metadata": {},
   "source": [
    "# E. Resolución de la relajación fraccional de DFZ\n",
    "\n",
    "En instancias más grandes se hace complejo usar el esquema anterior pues estamos resolviendo demasiados PLE.\n",
    "Una forma de mejorar esto es incluir (algunas) restricciones de corte no en el PLE, sino en su relajación fraccional.\n",
    "\n",
    "\\begin{align*}\n",
    "(\\text{DFZ-frac})\\qquad \\min &\\sum_{i=1}^N\\sum_{j=1}^N z_{i,j}d(i,j)\\\\\n",
    "z_{i,i}&=0,& \\forall i\\in [N]\\\\\n",
    "\\sum_{j=1}^N z_{i,j} &= 1,& \\forall i\\in [N]\\\\\n",
    "\\sum_{j=1}^N z_{j,i} &= 1,& \\forall i\\in [N]\\\\\n",
    "z_{i,j}+z_{j,i}&\\leq 1,& \\forall i,j\\in[N]\\\\\n",
    "z(\\delta^+(S)) &\\geq 1,& \\forall S\\subseteq [N], S\\neq N, 1\\in S. (\\text{corte}(S))\\\\\n",
    "z_{i,j}&\\geq0,& \\forall (i,j) \\in [N]\\times [N]\n",
    "\\end{align*}\n",
    "\n",
    "El objetivo de esta sección es programar un método que resuelva la relajación fraccional de DFZ (no la integral).\n",
    "\n",
    "Para esto, seguiremos un esquema similar al de la sección D.1. \n",
    "\n",
    "1. Generar modelo con variables **fraccionales** sin restricción de corte y resolverlo. \n",
    "2. Encontrar conjunto $S$ que contenga a 1 y que tenga corte $z(\\delta^+(S))$ mínimo. Si este corte es de valor al menos 1 entonces $z$ será la solución óptima.\n",
    "3. De otra forma, agregar la restricción asociada al corte de $S$ al modelo.\n",
    "\n",
    "Para implementar el paso 2, lo ideal es usar un algoritmo combinatorial rápido para mincut como Stoer-Watson o Queyranne; o uno aleatorizado como Karger. En vez de eso, en este laboratorio calcularemos mincut mediante (una secuencia de) programas lineales puros. Básicamente calcularemos el $1$-$t$ corte mínimo para todo $t\\neq 1$, y si alguno tiene valor menor que 1, agregaremos la restricción al modelo.\n",
    "\n",
    "Usaremos el siguiente PL puro (vimos uno similar en auxiliar). \n",
    "\n",
    "\n",
    "\\begin{align*}\n",
    "min \\sum_{i=1}^N\\sum_{j=1}^N &q_{i,j}z_{i,j}\\\\\n",
    "p_1&\\geq 1\\\\\n",
    "p_t&=0\\\\\n",
    "p_i-p_j+q(j,i)&\\geq 0\\\\\n",
    "q&\\ge 0\n",
    "\\end{align*}\n",
    "\n",
    "\n",
    "Aquí las variables son los vectores q (largo) y p (potencial); el vector $z$ es dato. Básicamente el PL busca asignar potenciales entre 0 y 1 a cada vértice y llama $q(i,j)$ a la diferencia de potencial entre $i$ y $j$. En un mundo ideal, una solución óptima asignaría potenciales 0 a aquellos puntos en el lado de $t$ y potencial 1 a aquellos puntos en el lado de $1$ del corte y luego $q_e=1$ solo para los arcos que cruzan el corte. Esta idea también funciona de manera fraccional y de hecho se puede probar que \n",
    "$$S=\\{i \\in [N], p_i\\geq \\alpha\\}$$\n",
    "es un $1$-$ t$ corte minimo para cualquier $\\alpha$ entre 0 y 1."
   ]
  },
  {
   "cell_type": "markdown",
   "metadata": {},
   "source": [
    "## Ejercicio 5. \n",
    "\n",
    "Implemente una funcion que reciba N, un indice t en 2:N, y un vector de pesos w (que toma el rol del z en el PL anterior) \n",
    "y devuelve el valor del minimo 1-t corte (usando pesos w) y un arreglo con los nodos al lado 1 de ese corte. \n",
    "Para esto complete la siguiente plantilla"
   ]
  },
  {
   "cell_type": "code",
   "execution_count": null,
   "metadata": {
    "scrolled": false
   },
   "outputs": [],
   "source": [
    "function cut(N, t, w)\n",
    "    #calcula el mincut de 1 a t usando los valores de w\n",
    "    mincut = Model(optimizer_with_attributes(() -> Gurobi.Optimizer(GUROBI_ENV),\"OutputFlag\" => 0)) #sin salida esta vez\n",
    "    @variable(..\n",
    "    @variable(..\n",
    "    @objective(..\n",
    "    @constraints(..\n",
    "    optimize!(mincut)\n",
    "    valor=...\n",
    "    corte=... #Indicación: Use el comando findall para encontrar los i con p_i>α\n",
    "              #(tipee ?findall en julia para ver como se usa)\n",
    "    return valor, corte\n",
    "end"
   ]
  },
  {
   "cell_type": "markdown",
   "metadata": {},
   "source": [
    "Pruebe su funcion en el grafo con 6 vertices y pesos dados por el vector w siguiente (para t=2, 3, 6 debería obtener cortes de valor 1, 2 y 3 respectivamente)"
   ]
  },
  {
   "cell_type": "code",
   "execution_count": null,
   "metadata": {},
   "outputs": [],
   "source": [
    "xxpos=[1, 1, 2, 4, 4, 5]\n",
    "yypos=[1, 5, 3, 1, 5, 3]\n",
    "w=zeros(6,6)\n",
    "for (i,j,k) in [(1, 2, 1), (1, 3, 1), (2, 3, 1), (3, 4, 2), (3, 5, 2), (4, 6, 1), (5, 6, 3), (3,6,1), (2,5,1), (1,4,1)]\n",
    "    w[i,j]=k\n",
    "end\n",
    "\n",
    "#dibujo\n",
    "dibuja(xxpos,yypos,w)\n",
    "\n",
    "#encontrando 1-t cortes para t=2,3,6\n",
    "println(cut(6,2,w))\n",
    "println(cut(6,3,w))\n",
    "println(cut(6,6,w))"
   ]
  },
  {
   "cell_type": "markdown",
   "metadata": {},
   "source": [
    "## Ejercicio 6\n",
    "\n",
    "### 6.1) \n",
    "Implemente la siguiente función para calcular la solucion optima fraccional de DFZ similar a como lo hizo en el Ejercicio 3 (esta vez la solución no es necesariamente un ciclo)\n"
   ]
  },
  {
   "cell_type": "code",
   "execution_count": null,
   "metadata": {},
   "outputs": [],
   "source": [
    "function resuelveDFZfraccional(nombrearchivo)\n",
    "    # recuperar N y puntos del archivo \n",
    "    ..\n",
    "    \n",
    "    # Crear modelo DFZfrac inicial \n",
    "    DFZfrac = Model(optimizer_with_attributes(() -> Gurobi.Optimizer(GUROBI_ENV),\"OutputFlag\" => 0)) #sin salida esta vez\n",
    "\n",
    "    @variable(..\n",
    "    @objective(..\n",
    "    @constraints(..\n",
    "    \n",
    "    iteracion=0\n",
    "    listo=false\n",
    "    while (!listo)\n",
    "        listo=true #si no encontramos cortes nuevo en la ejecución, terminamos al final del loop.\n",
    "        iteracion=iteracion+1\n",
    "        \n",
    "        ## optimizar y reportar valor.\n",
    "        optimize!(DFZfrac)\n",
    "        display(string(\"Iteración: \",iteracion, \", valor fraccional: \", objective_value(DFZfrac)))\n",
    "        \n",
    "        ## Encontrar algun 1-t corte de valor <1-epsilon, para epsilon=0.0001\n",
    "        epsilon=0.0001\n",
    "        for t in 2:N\n",
    "            valor, corte = ..\n",
    "            if (valor < 1-epsilon)\n",
    "                @constraint(..\n",
    "                display(string(\"Agregando corte: \", corte))\n",
    "                listo=false\n",
    "                break\n",
    "            end\n",
    "        end\n",
    "    end\n",
    "    \n",
    "    valorTour=objective_value(DFZfrac)\n",
    "    display(string(\"Tour fraccional encontrado de largo \", valorTour))\n",
    "    dibuja(..\n",
    "    return valorTour\n",
    "end\n",
    "\n"
   ]
  },
  {
   "cell_type": "markdown",
   "metadata": {},
   "source": [
    "### 6.2)\n",
    "Ejecute su funcion en cuatro instancias (ejemplo.txt, i30.txt, i40.txt, i50.txt)), encontrando los tours fraccionales óptimos.\n",
    "\n",
    "(Para referencia: el tour fraccional óptimo de \"ejemplo.txt\" tiene un valor cercano a 105.415)"
   ]
  },
  {
   "cell_type": "code",
   "execution_count": null,
   "metadata": {
    "scrolled": false
   },
   "outputs": [],
   "source": [
    "resuelveDFZfraccional("
   ]
  },
  {
   "cell_type": "code",
   "execution_count": null,
   "metadata": {
    "scrolled": false
   },
   "outputs": [],
   "source": [
    "resuelveDFZfraccional("
   ]
  },
  {
   "cell_type": "code",
   "execution_count": null,
   "metadata": {
    "scrolled": false
   },
   "outputs": [],
   "source": [
    "resuelveDFZfraccional("
   ]
  },
  {
   "cell_type": "code",
   "execution_count": null,
   "metadata": {
    "scrolled": false
   },
   "outputs": [],
   "source": [
    "resuelveDFZfraccional("
   ]
  },
  {
   "cell_type": "markdown",
   "metadata": {},
   "source": [
    "# Comentario Final\n",
    "\n",
    "Es posible interactuar con el solver mediante callbacks nuevamente para que en cada nodo de BnB, el solver también agregue cortes generados por el usuario (como los encontrados mediante mincut). En la actualidad, los algoritmos más veloces para TSP realizan esto."
   ]
  }
 ],
 "metadata": {
  "kernelspec": {
   "display_name": "Julia 1.3.1",
   "language": "julia",
   "name": "julia-1.3"
  },
  "language_info": {
   "file_extension": ".jl",
   "mimetype": "application/julia",
   "name": "julia",
   "version": "1.3.1"
  }
 },
 "nbformat": 4,
 "nbformat_minor": 2
}
