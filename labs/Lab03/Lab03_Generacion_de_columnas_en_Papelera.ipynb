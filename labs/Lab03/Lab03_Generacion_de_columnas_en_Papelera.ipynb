{
 "cells": [
  {
   "cell_type": "markdown",
   "metadata": {},
   "source": [
    "# Instrucciones.\n",
    "\n",
    "Debería poder realizar todo el laboratorio en 3 horas.\n",
    "\n",
    "**Recomendamos fuertemente** que siga trabajando en el laboratorio durante las horas asignadas, pues así puede consultar en vivo dudas que tenga sobre las partes finales del mismo. \n",
    "\n",
    "* Complete la celda \"A. Datos grupo\".\n",
    "* Descargue los archivos de instancias de ucursos.\n",
    "* Complete la sección \"B. Preparación y definición del problema\" (incluye 1 ejercicio)\n",
    "* Envie el archivo .ipynb por el modulo de tareas de ucursos en la TAREA: Laboratorio 3 presencial \n",
    "* Plazo de entrega:  Miércoles 3 de junio a las 18:00\n",
    "\n",
    "La parte B es muy corta (es aproximadamente 1/5 del laboratorio), guarde el archivo apenas la complete para poder subirlo a ucursos.\n",
    "\n",
    "La parte C del laboratorio se  entrega el día Viernes a las 22:00\n",
    "\n",
    "* Complete todos los ejercicios\n",
    "* Envie el archivo .ipynb por el modulo de tareas de ucursos en la TAREA: Laboratorio 3 completo\n",
    "* Plazo de entrega: Viernes 5 de mayo a las 22:00 \n",
    "  (puede solicitar por correo electrónico plazo adicional si lo necesita, pero su solicitud debe hacerse antes del viernes  a las 22:00. No es automático)\n"
   ]
  },
  {
   "cell_type": "markdown",
   "metadata": {},
   "source": [
    "# A. Datos grupo\n",
    "\n",
    "Escriba en esta celda el nombre de cada integrante de su grupo.\n",
    "\n",
    "- Integrante 1: XXX\n",
    "\n",
    "- Integrante 2: YYY"
   ]
  },
  {
   "cell_type": "markdown",
   "metadata": {},
   "source": [
    " # B. Preparación y definición del problema.\n",
    "\n",
    "1. Usaremos los paquetes `JuMP, Gurobi, CSV, StatsPlots, LinearAlgebra, SparseArrays`\n",
    "   Asegúrese de tener la última versión de `JuMP` corriendo (0.21.2 en mayo 2020)\n",
    "   Si le falta algún paquete instálelo (`using Pkg`; `Pkg.add(\"nombre_paquete\")`) o actualícelo (`Pkg.update(\"nombre_paquete\")`)\n",
    " "
   ]
  },
  {
   "cell_type": "code",
   "execution_count": null,
   "metadata": {},
   "outputs": [
    {
     "name": "stderr",
     "output_type": "stream",
     "text": [
      "┌ Info: Precompiling StatsPlots [f3b207a7-027a-5e70-b257-86293d7955fd]\n",
      "└ @ Base loading.jl:1273\n"
     ]
    }
   ],
   "source": [
    "# using Pkg\n",
    "# Pkg.add(\" \")\n",
    "# Pkg.update(\" \")\n",
    "\n",
    "using JuMP, Gurobi,CSV, StatsPlots, SparseArrays, LinearAlgebra"
   ]
  },
  {
   "cell_type": "markdown",
   "metadata": {
    "scrolled": false
   },
   "source": [
    "2. Al igual que en el laboratorio anterior, cree una constante `GUROBI_ENV` que guarde el ambiente gurobi que usaremos\n",
    "  (de modo de evitar múltiples instancias). Además incluya el archivo `cutting.jl` que contiene funciones útiles para \n",
    "  leer archivos y graficar respuestas\n"
   ]
  },
  {
   "cell_type": "code",
   "execution_count": null,
   "metadata": {},
   "outputs": [],
   "source": [
    "const GUROBI_ENV = Gurobi.Env()\n",
    "include(\"cutting.jl\")"
   ]
  },
  {
   "cell_type": "markdown",
   "metadata": {
    "scrolled": false
   },
   "source": [
    "3. Hoy trabajaremos con el **Cutting Stock problem** explicado en clases: Una papelera dispone de rollos padres (troncos) de largo $W>0$.\n",
    "  Recibe $m$ pedidos. Cada pedido $i$ consiste en una demanda $b_i$ de rollos de ancho $w_i$ \n",
    "  La papelera debe luego cortar cada tronco en rollos de los largos adecuados para satisfacer los pedidos.\n",
    "  El objetivo del **Cutting Stock problem** es determinar el mínimo número de troncos necesarios para satisfacer los pedidos.\n",
    "  \n",
    "  En clases escribimos la formulación (CS1) para el problema escrito abajo. El entero $N$ representa una cota superior inicial (ojalá pequeña) que permite satisfacer las $m$ demandas.\n",
    "\n",
    "\\begin{align*}\n",
    "(\\text{CS1})\\qquad \\min \\sum_{j=1}^N y_j&\\\\\n",
    "\\sum_{j=1}^N z_{i,j}&= b_i,& \\forall i\\in [m]\\\\\n",
    "\\sum_{i=1}^m z_{i,j}w_{i}&\\leq Wy_j,&\\forall j\\in [N]\\\\\n",
    "z&\\in \\mathbb{N}^{[m]\\times [N]}\\\\\n",
    "y&\\in \\{0,1\\}^{[N]}\n",
    "\\end{align*}"
   ]
  },
  {
   "cell_type": "markdown",
   "metadata": {},
   "source": [
    "## Ejercicio 1:\n",
    "\n",
    "*  Los archivos \"cuttingstock01.csv\",\"cuttingstock02.csv\",\"cuttingstock03.csv\",\"cuttingstock04.csv\", \"cuttingstock05.csv\" contienen instancias de prueba para el problema de CuttingStock en formato csv (comma-separated-values)\n",
    "\n",
    "  Puede leer una instancia puede leerla usando la siguiente función\n",
    "  ```julia\n",
    "  anchotronco, ancho, demanda = lee_cuttingstock(nombre_archivo_csv)\n",
    "  ```\n",
    "  Esta función guardará en `anchotronco`  el ancho de los rollos padres (un entero), en `ancho` y `demanda` vectores con los anchos y demandas de cada pedido. \n",
    "\n",
    "\n",
    "*  El archivo \"visualizacion.jl\" contiene funciones para visualizar salidas del problema. En este ejercicco \n",
    "  la función \"grafica\" es relevante.\n",
    "  Sintaxis: \n",
    "  ```julia\n",
    "  grafica(ancho, yvalues, zvalues)\n",
    "  ```\n",
    "  donde `ancho` es un vector de anchos, e `yvalues`, `zvalues` son soluciones factibles del modelo (CS1)\n",
    "\n",
    "Este ejercicio tiene 3 partes \n",
    "\n",
    "a) Escribir una función ModeloSimple que cree el modelo CS1.\n",
    "\n",
    "b) Escribir una función ResolverSimple que automatice el proceso de: \n",
    "   leer-entrada, crear modelo, optimizar y graficar salida.\n",
    "   \n",
    "c) Ejecutar la función ResolverSimple en dos instancias de prueba.\n",
    "\n",
    "\n",
    "**Importante**: Para obligar al solver a devolver una solución incluso si fija `cotatiempo` a ser muy bajo, aprovecharemos de entregarle un incumbente o solución factible de partida. Esto se conoce como **warm-start**.\n",
    "\n",
    "La siguiente función devuelve la solución factible trivial que consiste en asignar un tronco completo por cada unidad pedida por cada cliente."
   ]
  },
  {
   "cell_type": "code",
   "execution_count": null,
   "metadata": {},
   "outputs": [],
   "source": [
    "function solucioninicial(anchotronco, ancho, demanda)\n",
    "    m=size(ancho,1)\n",
    "    N=sum(demanda)\n",
    "    yinicial= ones(Int8, N)\n",
    "    zinicial = zeros(Int8,m,N)\n",
    "    aux=0\n",
    "    for i in 1:m\n",
    "        for j in 1:demanda[i]\n",
    "            zinicial[i,j+aux]=1\n",
    "        end\n",
    "        aux+=demanda[i]\n",
    "    end\n",
    "    return m, N, yinicial, zinicial \n",
    "end"
   ]
  },
  {
   "cell_type": "markdown",
   "metadata": {},
   "source": [
    "### 1.a)\n",
    "\n",
    "Escriba una función ModeloSimple que siga la siguiente sintaxis de entrada y salida:\n",
    "```julia\n",
    "function ModeloSimple(anchotronco, ancho, demanda, cotatiempo=30)\n",
    "return modeloCS1\n",
    "```\n",
    "donde la salida es\n",
    "\n",
    "* `modelo` es un objeto de tipo Model (creado por JuMP) basado en la formulación (CS1).\n",
    "\n",
    "y la entrada es\n",
    "\n",
    "* `anchotronco`:  Ancho de los troncos\n",
    "* `ancho`: Vector de ancho de pedidos\n",
    "* `demanda`: Vector de demanda de pedidos\n",
    "* `cotatiempo`: Cota máxima en tiempo (en segundos) que se le permite al solver utilizar. (Al escribir cotatiempo=30 en la declaración esto se transforma en un parámetro opcional)\n"
   ]
  },
  {
   "cell_type": "code",
   "execution_count": null,
   "metadata": {},
   "outputs": [],
   "source": [
    "function ModeloSimple(anchotronco, ancho, demanda, cotatiempo=30)\n",
    "    #supone variable GUROBI_ENV global\n",
    "    \n",
    "    # Paso 1 Recuperar parametros y solucion inicial\n",
    "    m, N, yinicial, zinicial = solucioninicial(anchotronco, ancho, demanda)\n",
    "   \n",
    "    # Paso 2, crear el modelo. Aqui se usa el parámetro cotatiempo\n",
    "    modeloCS1 = Model(optimizer_with_attributes(\n",
    "                () -> Gurobi.Optimizer(GUROBI_ENV), \n",
    "                \"OutputFlag\" => 1,\n",
    "                \"TimeLimit\" => cotatiempo)) \n",
    "    \n",
    "    # Paso 3 cree las variables, restricciones y objetivos del modelo\n",
    "    @variable(..)\n",
    "    @objective(..)\n",
    "    @constraints(..)\n",
    "    \n",
    "    # Paso 4, fije la solucion inicial (esto supone que llamo a sus variables y, z)\n",
    "    set_start_value.(y, yinicial)\n",
    "    set_start_value.(z, zinicial)\n",
    "    \n",
    "    return modeloCS1\n",
    "end"
   ]
  },
  {
   "cell_type": "markdown",
   "metadata": {
    "scrolled": false
   },
   "source": [
    "1.b) \n",
    "Escriba una función ResolverSimple que siga la siguiente sintaxis de entrada y salida:\n",
    "\n",
    "```julia\n",
    "function ResolverSimple(nombre_archivo_csv, cotatiempo=30)\n",
    "    #debe graficar en pantalla la solución\n",
    "    return valor_objetivo, yvalues, zvalues, mejor_cota\n",
    "```\n",
    "\n",
    "aquí `valor_objetivo`, `yvalues` y `zvalues` son el objetivo y los mejores vectores soluciones encontrados para (CS1) -- (podrían ser no-óptimos por cota de tiempo) y `mejor_cota` es la mejor cota inferior encontrada para la solución de (CS1)\n",
    "\n",
    "Para escribir la función puede usar la siguiente plantilla."
   ]
  },
  {
   "cell_type": "code",
   "execution_count": null,
   "metadata": {},
   "outputs": [],
   "source": [
    "function ResolverSimple(nombre_archivo_csv, cotatiempo=30)\n",
    "    # cargar instancia\n",
    "    anchotronco, ancho, demanda = lee_cuttingstock(nombre_archivo_csv)\n",
    "\n",
    "    # crear modelo\n",
    "    modelo1 = ..\n",
    "    \n",
    "    # optimizar, extraer objetivos y valores\n",
    "    \n",
    "    optimize!(modelo1)\n",
    "    if termination_status(modelo1) == MOI.TIME_LIMIT\n",
    "        @warn(\"Límite de tiempo. solución suboptima\")\n",
    "    end\n",
    "    \n",
    "    valor_objetivo = ..\n",
    "    mejor_cota = objective_bound(modelo1)\n",
    "    yvalues = values.(modelo1[:nombrevariable])\n",
    "    zvalues = ..\n",
    "\n",
    "    # grafique\n",
    "    grafica(...)\n",
    "    \n",
    "    # entregue\n",
    "    return valor_objetivo, yvalues, zvalues, mejor_cota\n",
    "    \n",
    "end"
   ]
  },
  {
   "cell_type": "markdown",
   "metadata": {},
   "source": [
    "### 1.c) \n",
    "Ejecute la función ResolverSimple en las instancia de pruebas \"cuttingstock01.csv\" y \"cuttingstock02.csv\" \n",
    "con limites de 30 segundos cada uno.\n",
    "\n",
    "En el último ejercicio se le pedirá volver a usar estas funciones para comparar sus resultados con los de generación de columnas."
   ]
  },
  {
   "cell_type": "code",
   "execution_count": null,
   "metadata": {},
   "outputs": [],
   "source": [
    "ResolverSimple()"
   ]
  },
  {
   "cell_type": "code",
   "execution_count": null,
   "metadata": {},
   "outputs": [],
   "source": [
    "ResolverSimple()"
   ]
  },
  {
   "cell_type": "markdown",
   "metadata": {},
   "source": [
    "#  C. Generación de columnas "
   ]
  },
  {
   "cell_type": "markdown",
   "metadata": {},
   "source": [
    "Resumimos abajo la manera de solucionar este problema mediante generación de columna. \n",
    "\n",
    "El modelo completo por patrones es\n",
    "\n",
    "$$\n",
    "\\begin{align*}\n",
    "(\\text{CS}2)\\qquad \\min \\sum_{p \\in P} x_p &\\\\\n",
    "\\sum_{p\\in P} x_p p_{i}&= b_i,& \\forall i\\in [m]\\\\\n",
    "x_p&\\in \\mathbb{N}, &\\forall p \\in P\n",
    "\\end{align*}\n",
    "$$\n",
    "\n",
    "Donde $P$ es un conjunto de patrones, siendo un patrón un vector de $m$ filas y corresponde a una forma factible de cortar un tronco, así para $p\\in P$ se tiene que $p_{i}$ con $i \\in [m]$ corresponde al número de items del pedido $i$ que posee el patrón $p$."
   ]
  },
  {
   "cell_type": "markdown",
   "metadata": {},
   "source": [
    "Generación de columnas permite resolver la relajación fraccional (PL) de (CS2) en la que $x_p \\in \\mathbb{N}$ se reemplaza por $x_p\\geq 0$.\n",
    "\n",
    "Para esto necesitamos saber escribir el master y el pricing problem asociados:\n",
    "\n",
    "**Master Problem**\n",
    "\n",
    "\n",
    "Sea $Q^{k}$ el conjunto de patrónes al comienzo de la iteración $k+1$, con esto el master problem (fraccional):\n",
    "\n",
    "\\begin{align*}\n",
    "(\\text{MP}(Q^{k}))\\qquad \\min \\sum_{p\\in Q^{k}} x_{p}&\\\\\n",
    "\\sum_{p\\in Q^{k}} x_{p}p_{i}&= b_{i},& \\forall i\\in [m]\\\\\n",
    "x_{p}&\\geq 0 & \\forall p \\in Q^{k}\n",
    "\\end{align*}\n",
    "\n",
    "\n",
    "**Pricing Problem**\n",
    "\n",
    "De clases, sabemos que si $y$ es una solución del dual del master problem, entonces el pricing problem de $y$ consiste en determinar un vector $p$ de valor $\\eta'$ dado por el siguiente knapsack problem:\n",
    "\n",
    "\\begin{align*} \n",
    "(\\text{SP}(y))\\qquad \\max \\sum_{i=1}^{m}y_{i}p_{i} &\\\\\n",
    "\\sum_{i=1}^m p_{i}w_{i}&\\leq W\\\\\n",
    "p &\\in \\mathbb{N}^{[m]}\\\\\n",
    "\\end{align*}"
   ]
  },
  {
   "cell_type": "markdown",
   "metadata": {},
   "source": [
    "**Generación de columna**\n",
    "\n",
    "El algoritmo de generación de columna consiste en lo siguiente:\n",
    "\n",
    "1. Elegir conjunto de columnas inicial ($Q^{0}$) que guardaremos como columnas de la matriz `patron`.\n",
    "\n",
    "   Originalmente, esta matriz será la identidad (tendrá $m$ columnas y la $j$-ésima columna solo tendrá un 1 \n",
    "   en la coordenada $j$). Dado que durante el algoritmo, la matriz tendrá mucho ceros se recomienda guardarla como un \n",
    "   arreglo sparse. Puede inicializar una matriz sparse igual a la identidad usando el comando\n",
    "   ```julia\n",
    "   patron = sparse(I,m,m)\n",
    "   ```\n",
    "   donde $I$ es la matriz identidad (viene por defecto al cargar el paquete LinearAlgebra), y $m$ es el número de \n",
    "   pedidos de la instancia.\n",
    "   \n",
    "   \n",
    "2. Repetir:\n",
    "\n",
    "   Calcular el óptimo y dual óptimo $(x,y)$ del master problem actual `MP(patron)`\n",
    "   \n",
    "   Calcular el valor $\\eta'$ y el patrón óptimo $p$ del pricing problem `Pricing(y)`\n",
    "   \n",
    "   Si $\\eta'\\leq 1$ terminar. El vector $x$ es óptimo.\n",
    "   \n",
    "   Si $\\eta'\\geq 1$ agregar $p$ al conjunto de patrones actual. En Julia esto se puede hacer concatenando $p$ al final de la matriz patron, escribiendo\n",
    "   ```julia\n",
    "   patron = hcat(patron, nuevacolumna)\n",
    "   ```\n",
    "   \n",
    "En los siguientes ejercicios deberá crear una función que resuelva el problema mediante generación de columnas.    "
   ]
  },
  {
   "cell_type": "markdown",
   "metadata": {},
   "source": [
    "### Ejercicio 2:\n",
    "\n",
    "Escriba una función `MasterProblem` que crea y resuelva el modelo asociado al problema maestro. \n",
    "La función debe tener el siguiente formato\n",
    "\n",
    "```julia\n",
    "function MasterProblem(demanda, patron)\n",
    "return valor_objetivo, xvalues, yvalues\n",
    "```\n",
    "donde la salida es\n",
    "\n",
    "* `valor_objetivo` es el objetivo del problema primal\n",
    "* `xvalues` es el vector x óptimo encontrado\n",
    "* `yvalues` es el vector y dual-óptimo encontrado\n",
    "\n",
    "y la entrada es\n",
    "\n",
    "* `demanda`: Vector de demanda de pedidos\n",
    "* `patron`: matriz con $m$ filas. En su $j$-ésima columna tiene el $j$-ésimo patrón.\n",
    "\n",
    "*Observación importante:*\n",
    "  Si en la declaración de restricciones les pone nombre, por ejemplo\n",
    "  \n",
    "  ```julia\n",
    "  @constraints(mimodelo, nombre_restriccion[i=1:m], restriccion)\n",
    "  ```\n",
    "  y luego optimiza\n",
    "  puede recuperar el vector de variables duales optima asociada escribiendo\n",
    "  ```julia\n",
    "  dual.(nombre_restriccion)\n",
    "  ```\n",
    "  \n",
    "  Puede usar y completar la siguiente plantilla"
   ]
  },
  {
   "cell_type": "code",
   "execution_count": null,
   "metadata": {},
   "outputs": [],
   "source": [
    "function MasterProblem(demanda, patron)\n",
    "    \n",
    "    # Paso 1, Recuperar parámetros\n",
    "    m =  # número de pedidos\n",
    "    ncols =  # número de patrones\n",
    "    \n",
    "    # Paso 2, crear modelo.\n",
    "    modelomaestro = Model(optimizer_with_attributes(() -> Gurobi.Optimizer(GUROBI_ENV),\"OutputFlag\" => 0))\n",
    "    \n",
    "    # Paso 3 cree las variables, restricciones y objetivos del modelo\n",
    "    ...\n",
    "    \n",
    "    # Paso 4, optimizar modelo\n",
    "    optimize!(modelomaestro)\n",
    "    if termination_status(modelomaestro) != MOI.OPTIMAL\n",
    "        @warn(\"No hay optimo\")\n",
    "    end\n",
    "    \n",
    "    # Paso 5, obtener la salida\n",
    "    ...\n",
    "    \n",
    "    return valor_objetivo, xvalues, yvalues\n",
    "end"
   ]
  },
  {
   "cell_type": "markdown",
   "metadata": {},
   "source": [
    "### Ejercicio 3:\n",
    "\n",
    "Escriba una función `PricingProblem` que crea y resuelva el modelo asociado al pricing problema. La función debe tener el siguiente formato\n",
    "\n",
    "```julia\n",
    "function PricingProblem(anchotronco, ancho, duales)\n",
    "return etaprima, patronoptimo\n",
    "```\n",
    "donde la salida es\n",
    "\n",
    "* `etaprima` es el objetivo del problema de pricing\n",
    "* `patronoptimo` es el vector $p$ óptimo encontrado\n",
    "\n",
    "y la entrada es\n",
    "\n",
    "* `anchotronco`:  Ancho de los troncos\n",
    "* `ancho`: Vector de ancho de pedidos\n",
    "* `duales`: Vector $y$ dual\n",
    "\n",
    "\n",
    "  Puede usar y completar la siguiente plantilla\n"
   ]
  },
  {
   "cell_type": "code",
   "execution_count": null,
   "metadata": {},
   "outputs": [],
   "source": [
    "function PricingProblem(anchotronco, ancho, duales)\n",
    "    # Paso 1 Recuperar parametros\n",
    "    m = ...\n",
    "    # Paso 2, crear modelo.\n",
    "    modelopricing = Model(optimizer_with_attributes(() -> Gurobi.Optimizer(GUROBI_ENV),\"OutputFlag\" => 0))\n",
    "    \n",
    "    # Paso 3 cree las variables, restricciones y objetivos del modelo\n",
    "    ...\n",
    "    \n",
    "    # Paso 4, optimizar modelo\n",
    "    optimize!(modelopricing)\n",
    "    if termination_status(modelopricing) != MOI.OPTIMAL\n",
    "        @warn(\"No hay optimo\")\n",
    "    end\n",
    "    \n",
    "    # Paso 5, obtener la salida\n",
    "    ...\n",
    "       \n",
    "    return etaprima, patronoptimo\n",
    "end"
   ]
  },
  {
   "cell_type": "markdown",
   "metadata": {},
   "source": [
    "### Ejercicio 4:\n",
    "\n",
    "Ahora implementaremos el método de generación de columnas siguiendo las indicaciones para ello.\n",
    "Para evitar tomar demasiado tiempo, usaremos un parámetro adicional llamado `maxcols` que limita el número de columnas **adicionales** creadas. Además debe probar su método en las instancias  \"cuttingstock01.csv\" y \"cuttingstock02.csv\" \n",
    "\n",
    "### 4.1 Implemente el método\n",
    "\n",
    "```julia\n",
    "function generacioncolumnas(anchotronco, ancho, demanda, maxcols)\n",
    "    return mensaje, patron, xvalues, valor_objetivo\n",
    "```\n",
    "donde la salida es\n",
    "\n",
    "* `mensaje` puede ser \"optimo\" si el proceso terminó, o \"suboptimo\" si se alcanzó el limite de columnas antes de terminar.\n",
    "* `patron` es la matriz que tiene en sus columnas los patrones usados.\n",
    "* `xvalues` es el vector x encontrado.\n",
    "* `valor_objetivo` es el valor de la solución encontrada.\n",
    "\n",
    "y la entrada es\n",
    "\n",
    "* `anchotronco`:  Ancho de los troncos\n",
    "* `ancho`: Vector de ancho de pedidos\n",
    "* `demanda`: Vector de demanda de pedidos\n",
    "* `maxcols`: Número máximo de columnas adicionales que se crearán\n",
    "\n",
    "  Puede usar y completar la siguiente plantilla\n"
   ]
  },
  {
   "cell_type": "code",
   "execution_count": null,
   "metadata": {},
   "outputs": [],
   "source": [
    "function generacioncolumnas(anchotronco, ancho, demanda, maxcols)\n",
    "    # Definir m y conjunto inicial de patrones (ver indicaciones al principio de sección C)\n",
    "    m = size(demanda,1)\n",
    "    patron = sparse(I,m,m)\n",
    "    ncols = m # numero inicial de columnas\n",
    "    \n",
    "    #resolver una vez fuera del while para tener inicializados los vectores apropiados \n",
    "    valor_objetivo, xvalues, yvalues = MasterProblem(demanda, patron) \n",
    "    # Repetir \n",
    "         while ncols <= m + maxcols \n",
    "        # Resolver problema maestro\n",
    "        .. = MasterProblem(..)\n",
    "        \n",
    "        # Resolver pricing problem asociado a solucion dual\n",
    "        .. = PricingProblem(..)\n",
    "        \n",
    "        # Reportar en pantalla valor de etaprima\n",
    "        println(\"Iteración : \", ncols - m + 1, \", η'=\", etaprima)\n",
    "        \n",
    "        # Si etaprima<=1 terminar\n",
    "        if etaprima<=1\n",
    "            println(\"optimo\", )\n",
    "            return ...\n",
    "        end\n",
    "        \n",
    "        # Si no, concatenar columna encontrada a patrones y aumentar numero de columnas\n",
    "        patron = ...\n",
    "        ncols += 1     \n",
    "    end\n",
    "    \n",
    "    # Fuera de while: se alcanzó el número de iteraciones\n",
    "    println(\"suboptimo\", )\n",
    "    return ...\n",
    "end"
   ]
  },
  {
   "cell_type": "markdown",
   "metadata": {},
   "source": [
    "### 4.2 Pruebe su método en instancias \"cuttingstock01.csv\" y \"cuttingstock02.csv\"  y grafique su salida\n",
    "\n",
    "Para graficar use la función\n",
    "\n",
    "```julia\n",
    "graficapatrones(ancho, patron, xvalues)\n",
    "``` \n",
    "incluida en el archivo visualizacion.jl\n"
   ]
  },
  {
   "cell_type": "code",
   "execution_count": null,
   "metadata": {},
   "outputs": [],
   "source": [
    "# cargar instancia\n",
    "anchotronco1, ancho1, demanda1 = lee_cuttingstock(\"cuttingstock01.csv\")\n",
    "# ejecute\n",
    "mensaje1, patron1, xvalues1, valor_objetivo1 = generacioncolumnas(anchotronco1, ancho1, demanda1, 50)\n",
    "# grafique\n",
    "graficapatrones(ancho1, patron1, xvalues1)\n"
   ]
  },
  {
   "cell_type": "code",
   "execution_count": null,
   "metadata": {},
   "outputs": [],
   "source": [
    "# cargar instancia\n",
    "anchotronco2, ancho2, demanda2 = lee_cuttingstock(\"cuttingstock02.csv\")\n",
    "# ejecute\n",
    "mensaje2, patron2, xvalues2, valor_objetivo2 = generacioncolumnas(anchotronco2, ancho2, demanda2, 50)\n",
    "# grafique\n",
    "graficapatrones(ancho2, patron2, xvalues2)"
   ]
  },
  {
   "cell_type": "markdown",
   "metadata": {},
   "source": [
    "### Ejercicio 5. \n",
    "\n",
    "El ejercicio anterior permite encontrar soluciones fraccionales para (PL). Para poder transformar estas soluciones en soluciones enteras factibles -- no necesariamente óptimas -- para (CS2) se puede resolver la versión **integral** del master problem con el conjunto de patrones finales encontrado.\n",
    "\n",
    "Para esto, cree una función \n",
    "```julia\n",
    "function MaestroIntegral(demanda, patron, cotatiempo)\n",
    "return valor_objetivo, xvalues\n",
    "```\n",
    "que haga lo mismo que `Maestro` pero que imponga integralidad en el vector $x$ del modelo (ojo, no debe calcular los valores duales), agregue una cotatiempo en segundos para su resolución.\n",
    "\n",
    "Finalmente aplique `MaestroIntegral` a los patrones encontrados en el ejercicio anterior para las instancias \"cuttingstock01.csv\" y \"cuttingstock02.csv\" y grafíquelos.\n"
   ]
  },
  {
   "cell_type": "code",
   "execution_count": null,
   "metadata": {},
   "outputs": [],
   "source": [
    "function MaestroIntegral(demanda, patron, cotatiempo)\n",
    "    ...\n",
    "    return valor_objetivo, xvalues\n",
    "end"
   ]
  },
  {
   "cell_type": "code",
   "execution_count": null,
   "metadata": {},
   "outputs": [],
   "source": [
    "#usando resultados de antes, encuentre factible integral instancia 1\n",
    "valor_objetivo_integral1, xvalues_integral1 = MaestroIntegral(demanda1, patron1)"
   ]
  },
  {
   "cell_type": "code",
   "execution_count": null,
   "metadata": {},
   "outputs": [],
   "source": [
    "graficapatrones(ancho1, patron1, xvalues_integral1)"
   ]
  },
  {
   "cell_type": "code",
   "execution_count": null,
   "metadata": {},
   "outputs": [],
   "source": [
    "#usando resultados de antes, encuentre factible integral instancia 2\n",
    "valor_objetivo_integral2, xvalues_integral2 = MaestroIntegral(demanda2, patron2)"
   ]
  },
  {
   "cell_type": "code",
   "execution_count": null,
   "metadata": {},
   "outputs": [],
   "source": [
    "graficapatrones(ancho2, patron2, xvalues_integral2)"
   ]
  },
  {
   "cell_type": "markdown",
   "metadata": {},
   "source": [
    "### Ejercicio 6. \n",
    "\n",
    "En este laboratorio usted ha encontrado soluciones y cotas para el problema de cutting stock en distintas instancias\n",
    "Ejecute las funciones y comandos apropiadas nuevamente en las siguientes celdas (el archivo que entregue debe incluir su ejecución) para llenar (a mano si lo desea) la siguiente tabla, usando **150** columnas adicionales para resolver (LP) y (CS2) **60** segundos como maximo en la ejecución de (CS1) y (CS2).\n",
    "\n",
    "\n",
    "| Instancia      | mejor-solucion-(CS1) | mejor-cota-(CS1) | mejor-solucion-(LP) | mejor-solucion-(CS2) |\n",
    "|----------------|----------------------|------------------|---------------------|----------------------|\n",
    "| cuttingstock01 | valor01              | valor01          | valor01             | valor01              |\n",
    "| cuttingstock02 | valor02              | valor02          | valor02             | valor02              |\n",
    "| cuttingstock03 | valor03              | valor03          | valor03             | valor03              |\n",
    "| cuttingstock04 | valor04              | valor04          | valor04             | valor04              |\n",
    "\n",
    "**OPCIONAL:**\n",
    "¿Puede explicar la relación entre estos números?\n",
    "(cuidado! recuerde que mejor-solucion-(LP) podria no ser optima para (LP) ¿que pasa en ese caso?)"
   ]
  },
  {
   "cell_type": "code",
   "execution_count": null,
   "metadata": {},
   "outputs": [],
   "source": [
    "# Use una o más celdas para mostrar como obtuvo los valores de la tabla."
   ]
  },
  {
   "cell_type": "code",
   "execution_count": null,
   "metadata": {},
   "outputs": [],
   "source": [
    "# Use una o más celdas para mostrar como obtuvo los valores de la tabla."
   ]
  },
  {
   "cell_type": "markdown",
   "metadata": {},
   "source": [
    "### Ejercicio 7 (opcional)\n",
    "\n",
    "Usando los metodos de este laboratorio (o modificándolos como lo desee) encuentre la mejor solución entera y la mejor cota inferior que pueda para las 4 instancias y para la instancia **cuttingstock05.csv** (que es muchísimo más grande).\n",
    "\n",
    "¿Puede encontrar soluciones óptimas en todas ellas?\n",
    "\n",
    "* HINT: Para la instancia grande le sugerimos buscar una mejor solucion inicial en (CS1). \n",
    "  Además, comente todo lo que no sea necesario (como graficar)\n",
    "\n",
    "* Ideas: * \n",
    "  Recuerde que la formulación (PL) es siempre cota inferior del óptimo.\n",
    "  Puede usar (CS1) para extraer patrones nuevos que agregar a los patrones encontrados para la solución factible de (CS2)\n",
    "  También puede usar la solución encontrada de (CS2) para alimentar (CS1) como incumbente inicial.\n"
   ]
  },
  {
   "cell_type": "code",
   "execution_count": null,
   "metadata": {},
   "outputs": [],
   "source": []
  }
 ],
 "metadata": {
  "kernelspec": {
   "display_name": "Julia 1.3.1",
   "language": "julia",
   "name": "julia-1.3"
  },
  "language_info": {
   "file_extension": ".jl",
   "mimetype": "application/julia",
   "name": "julia",
   "version": "1.3.1"
  }
 },
 "nbformat": 4,
 "nbformat_minor": 2
}
