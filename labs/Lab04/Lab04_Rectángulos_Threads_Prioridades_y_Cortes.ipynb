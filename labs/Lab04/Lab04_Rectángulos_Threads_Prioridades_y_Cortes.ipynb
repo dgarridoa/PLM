{
 "cells": [
  {
   "cell_type": "markdown",
   "metadata": {},
   "source": [
    "# Instrucciones.\n",
    "\n",
    "Debería poder realizar todo el laboratorio en 3 horas.\n",
    "\n",
    "**Recomendamos fuertemente** que siga trabajando en el laboratorio durante las horas asignadas, pues así puede consultar en vivo dudas que tenga sobre las partes finales del mismo. \n",
    "\n",
    "* Complete la celda \"A. Datos grupo\".\n",
    "* Descargue los archivos de instancias de ucursos.\n",
    "* Lea y ejecute la sección \"B. Preparación\" \n",
    "* Desarrolle la sección \"C. Conjunto Independiente máximo de rectángulos (Modelo)\" Incluye 1 ejercicio. No olvide responder la pregunta al final de la parte 1.c\n",
    "* Envie el archivo .ipynb por el modulo de tareas de ucursos en la TAREA: Laboratorio 3 presencial \n",
    "* Plazo de entrega:  Miércoles 17 de junio a las 18:00\n",
    "\n",
    "Los ejercicios 2, 3 y 4  contenidos en las secciones D y E de este laboratorio se entregan este Viernes 19 de junio a las 22:00\n",
    "\n",
    "\n",
    "* Complete todos los ejercicios (incluyendo las preguntas abiertas al final de algunos de ellos)\n",
    "* Envie el archivo .ipynb por el modulo de tareas de ucursos en la TAREA: Laboratorio 3 completo\n",
    "* Plazo de entrega: Viernes 19 de junio a las 22:00 \n",
    "  (puede solicitar por correo electrónico plazo adicional si lo necesita, pero su solicitud debe hacerse antes del viernes  a las 22:00. No es automático)\n"
   ]
  },
  {
   "cell_type": "markdown",
   "metadata": {},
   "source": [
    "# A. Datos grupo\n",
    "\n",
    "Escriba en esta celda el nombre de cada integrante de su grupo.\n",
    "\n",
    "- Integrante 1: XXX\n",
    "\n",
    "- Integrante 2: YYY"
   ]
  },
  {
   "cell_type": "markdown",
   "metadata": {},
   "source": [
    " # B. Preparación.\n",
    "\n",
    "### B1. Paquetes y Ambiente \n",
    "\n",
    "Usaremos los paquetes `JuMP, Gurobi, Plots, CSV, DataFrames`\n",
    "   Asegúrese de tener la última versión de `JuMP` corriendo (0.21.2 en mayo 2020)\n",
    "   Si le falta algún paquete instálelo (`using Pkg`; `Pkg.add(\"nombre_paquete\")`) o actualícelo (`Pkg.update(\"nombre_paquete\")`)\n",
    " \n",
    "Al igual que en el laboratorio anterior, cree una constante `GUROBI_ENV` que guarde el ambiente gurobi que usaremos\n",
    "(de modo de evitar múltiples instancias). \n",
    " "
   ]
  },
  {
   "cell_type": "code",
   "execution_count": null,
   "metadata": {},
   "outputs": [],
   "source": [
    "# using Pkg\n",
    "# Pkg.add(\" \")\n",
    "# Pkg.update(\" \")\n",
    "\n",
    "using JuMP, Gurobi, Plots, CSV, DataFrames\n",
    "const GUROBI_ENV = Gurobi.Env()"
   ]
  },
  {
   "cell_type": "markdown",
   "metadata": {
    "scrolled": false
   },
   "source": [
    "## B2. Rectángulos en el plano: definiciones y funciones auxiliares"
   ]
  },
  {
   "cell_type": "markdown",
   "metadata": {
    "scrolled": false
   },
   "source": [
    "Hoy trabajaremos con problemas relacionados con rectángulos en el plano.\n",
    "   \n",
    "Para $(a,b,c,d)\\in \\mathbb{Z}$, denotamos por $\\text{rect}(a, b, c, d)=[a, c] \\times [b, d] \\subseteq \\mathbb{Z}^2$  al rectángulo cerrado con lados alineados con los ejes, de esquina inferior izquierda $(a, b)$ y esquina superior derecha $(c, d)$. \n",
    "  \n",
    "Describiremos familias de $n$ rectángulos como matrices $R\\in \\mathbb{Z}^{n\\times 4}$ cuya $i$-ésima fila es $[a_i, b_i, c_i, d_i]$. El $i$-ésimo rectángulo de la familia es $\\text{rect}(a_i,b_i,c_i,d_i)$\n",
    " \n",
    "Revisar si dos rectángulos se intersectan es simple:\n",
    "$$\\text{rect}(a,b,c,d) \\cap \\text{rect}(a',b',c',d')\\neq \\emptyset \\iff (\\max(a,a')\\leq \\min(c,c')) \\wedge (\\max(b,b')\\leq \\min(c,c')$$  \n",
    " \n",
    "Decimos que un conjunto $R$ de rectángulos es **independiente** si son disjuntos de a pares. \n",
    "\n",
    "Llamamos **área discreta** de un rectángulo $r$ al número de puntos enteros que este rectángulo contiene.\n",
    "\n",
    "A continuación incluimos 4 funciones auxiliares para usar en este laboratoio\n",
    "\n",
    "1. ``LeeArchivo(archivocsv)``\n",
    "   Lee un archivo de nombre \"archivocsv\" que contiene una familia de rectángulo, devolviéndolo en formato matriz.\n",
    "   \n",
    "2. ``Intersecta(rect1,rect2)`` \n",
    "   Determina rápidamente si dos rectángulos se intersectan (devuelve true/false)\n",
    "    \n",
    "3. ``AreaDiscreta(rect)``\n",
    "   Determina el área discreta del rectángulo\n",
    "   \n",
    "4. ``Dibuja(R)``\n",
    "   Dibujar familias de rectángulos en el plano (les aumenta el grosor para permitir rectangulos de ancho o alto 0)\n",
    "  "
   ]
  },
  {
   "cell_type": "code",
   "execution_count": null,
   "metadata": {},
   "outputs": [],
   "source": [
    "function LeeArchivo(archivocsv)\n",
    "    return Matrix(CSV.read(archivocsv,  header=0))\n",
    "end\n",
    "\n",
    "function Intersecta(rect1,rect2)\n",
    "    return (max(rect1[1],rect2[1])<=min(rect1[3],rect2[3])) & (max(rect1[2],rect2[2])<=min(rect1[4],rect2[4]))\n",
    "end\n",
    "\n",
    "function AreaDiscreta(rect)\n",
    "    return (rect[3]-rect[1]+1)*(rect[4]-rect[2]+1)\n",
    "end\n",
    "\n",
    "function Dibuja(R)\n",
    "    N=maximum(R)\n",
    "    plot()\n",
    "    for i in 1:size(R,1)\n",
    "       plot!(\n",
    "            Shape([R[i,1]-0.1, R[i,3]+0.1, R[i,3]+0.1, R[i,1]-0.1], [R[i,2]-0.1, R[i,2]-0.1, R[i,4]+0.1, R[i,4]+0.1]),\n",
    "            xlims=(0.85,N+0.15),\n",
    "            ylims=(0.85,N+0.15),\n",
    "            opacity=.5, legend=false, aspect_ratio=1)\n",
    "    end\n",
    "    display(plot!())\n",
    "end"
   ]
  },
  {
   "cell_type": "markdown",
   "metadata": {},
   "source": [
    "Como ejemplo, las siguientes lineas crean una matriz F de rectángulos a partir del archivo \"rectangulos00.csv\" y luego la dibujan"
   ]
  },
  {
   "cell_type": "code",
   "execution_count": null,
   "metadata": {},
   "outputs": [],
   "source": [
    "F=LeeArchivo(\"rectangulos00.csv\")"
   ]
  },
  {
   "cell_type": "code",
   "execution_count": null,
   "metadata": {},
   "outputs": [],
   "source": [
    "Dibuja(F)"
   ]
  },
  {
   "cell_type": "markdown",
   "metadata": {},
   "source": [
    "Por ejemplo, en el caso de la familia $F$ anterior, podemos calcular las áreas discretas de los 6 rectángulos como sigue:"
   ]
  },
  {
   "cell_type": "code",
   "execution_count": null,
   "metadata": {},
   "outputs": [],
   "source": [
    "for i in 1:size(F,1)\n",
    "    println(\"Rectangulo \", i, \" cubre \", AreaDiscreta(F[i,:]), \" puntos enteros\")\n",
    "end"
   ]
  },
  {
   "cell_type": "markdown",
   "metadata": {},
   "source": [
    "Y podemos calcular la intersección par a par de los rectángulos de $F$ como sigue"
   ]
  },
  {
   "cell_type": "code",
   "execution_count": null,
   "metadata": {},
   "outputs": [],
   "source": [
    "[Intersecta(F[i,:], F[j,:]) for i=1:size(F,1), j=1:size(F,1)]"
   ]
  },
  {
   "cell_type": "markdown",
   "metadata": {},
   "source": [
    "Notamos que los rectangulos 1, 3, 4 y 5 forman un conjunto independiente. Podemos dibujar ese subconjunto escribiendo:"
   ]
  },
  {
   "cell_type": "code",
   "execution_count": null,
   "metadata": {},
   "outputs": [],
   "source": [
    "Dibuja(F[[1, 3, 4, 5],:])"
   ]
  },
  {
   "cell_type": "markdown",
   "metadata": {},
   "source": [
    "# C. Conjunto Independiente máximo de rectángulos (Modelo)"
   ]
  },
  {
   "cell_type": "markdown",
   "metadata": {},
   "source": [
    " El problema del **conjunto independiente máximo de rectángulos (MISR)** se define como sigue:\n",
    "   \n",
    "  **Entrada:**\n",
    "  \n",
    "  Una familia $R$ de $n$ rectángulos codificada como una matriz (del mismo nombre) $R\\in \\mathbb{Z}^{n\\times 4}$ cuya $i$-ésima fila es $[a_i, b_i, c_i, d_i]$. \n",
    "  El $i$-ésimo rectángulo de la familia es $r_i=\\text{rect}(a_i,b_i,c_i,d_i)$\n",
    "  \n",
    "  **Salida:**\n",
    "  \n",
    "  Un conjunto $X\\subseteq R$ de rectángulos independientes de cardinal máximo.\n",
    "  \n",
    "  \n",
    "  \n",
    "  La formulación natural del problema como PLE es la siguiente (aquí $n$ es el número de rectángulos).\n",
    "  \n",
    "  $$(PE1)\\quad \\begin{align*}\n",
    "  \\max &\\sum_{i=1} x_i\\\\\n",
    "  x_i +x_j &\\leq 1, \\quad \\forall 1\\leq i<j\\leq n: r_i\\cap r_j \\neq \\emptyset\\\\\n",
    "  x_i &\\in \\{0,1\\}, \\quad \\forall i\\in [n]\n",
    "  \\end{align*}\n",
    "  $$\n",
    "  \n",
    "  también usaremos la siguiente relajación (PL1)\n",
    "  $$(PL1)\\quad \\begin{align*}\n",
    "  \\max &\\sum_{i=1} x_i\\\\\n",
    "  x_i +x_j &\\leq 1, \\quad \\forall 1\\leq i<j\\leq n: r_i\\cap r_j \\neq \\emptyset\\\\\n",
    "  0\\leq x_i &\\leq 1, \\quad \\forall i\\in [n]\n",
    "  \\end{align*}\n",
    "  $$\n",
    "  \n",
    "  \n",
    "  "
   ]
  },
  {
   "cell_type": "markdown",
   "metadata": {},
   "source": [
    "**IMPORTANTE:** \n",
    "\n",
    "En este laboratorio trabajaremos en resolver (PE1) para pequeñas instancias. Esta vez interactuaremos con el solver de distintas maneras: asignando prioridades, o cambiando características. ``JuMP`` no permite trabajar directamente con todas las funcionalidades de Gurobi, y es necesario usar paquetes de más bajo nivel como ``MathOptInterface`` (abreviado ``MOI``)\n",
    "\n",
    "Para hacer todo más simple, usaremos la siguiente función que recibe un modelo y una matriz de dos columnas donde cada fila es de la forma ``[\"opcion\", valor-opcion]`` que queramos pasarle a Gurobi. La lista de parámetros que Gurobi acepta está en  https://www.gurobi.com/documentation/9.0/refman/parameters.html\n",
    "\n",
    "Por ejemplo, si m contiene un modelo y deseamos fijar el parámetro \"TimeLimit\" del solver a 30 segundos, y el parámetro \"Presolve\" a 0 podemos escribir\n",
    "``Modifica(m, [\"TimeLimit\" 30; \"Presolve\" 0])``\n"
   ]
  },
  {
   "cell_type": "code",
   "execution_count": null,
   "metadata": {},
   "outputs": [],
   "source": [
    "function Modifica(mimodelo, X)\n",
    "    k=size(X,1)\n",
    "    for j in 1:k\n",
    "        MOI.set(mimodelo, MOI.RawParameter(X[j,1]), X[j,2])\n",
    "        println(\"\",X[j,1],\"=>\",X[j,2])\n",
    "    end\n",
    "end"
   ]
  },
  {
   "cell_type": "markdown",
   "metadata": {},
   "source": [
    "## Ejercicio 1:\n",
    "\n",
    "*  Los archivos \"rectangulosxx.csv\" donde xx está en el conjunto {00,01, 02, ..., 10} contienen familias de rectángulos de prueba.\n",
    "\n",
    "Este ejercicio tiene 3 partes \n",
    "\n",
    "a) Escribir una función ModeloMISR que cree el modelo PE1 (o PL1) a partir de un archivo y que fije opciones estándar a fijar luego.\n",
    "\n",
    "b) Escribir una función ResolverMISR(modeloR) que optimice el modelo ``modeloR`` y, en caso de encontrar óptimo, dibuje la salida\n",
    "   \n",
    "c) Ejecutar la función ResolverMISR en tres instancias de prueba.\n"
   ]
  },
  {
   "cell_type": "markdown",
   "metadata": {},
   "source": [
    "### 1.a)\n",
    "\n",
    "Escriba una función ModeloMISR que siga la siguiente sintaxis de entrada y salida:\n",
    "\n",
    "```julia\n",
    "function ModeloMISR(familia, integral=1)\n",
    "return modeloR\n",
    "```\n",
    "donde la salida es\n",
    "\n",
    "* `modeloR` es un objeto de tipo Model (creado por JuMP) basado en la formulación (PE).\n",
    "\n",
    "y la entrada es\n",
    "\n",
    "* `familia`:  Matriz que tiene los rectángulos de la familia\n",
    "\n",
    "El parámetro \"integral\" puede ser 0 o 1 y es opcional. Si es 1 debe crear el modelo (PE), si es 0 debe crear el modelo (PL)\n",
    "\n",
    "\n",
    "Su función debe fijar los siguientes parámetros en el modelo \n",
    "\n",
    " \"OutputFlag\" 1  <- activa la salida del solver\n",
    " \n",
    " \"TimeLimit\" 30  <- limite de tiempo\n",
    " \n",
    " \"Presolve\" 0   <- desactiva el presolver\n",
    " \n",
    " \"Threads\" 1     <- desactiva el paralelismo (1 solo thread se permite)\n",
    " \n",
    " \"Cuts\" 0        <- desactiva la generación de cortes.\n",
    " \n",
    " \"Heuristics\" 0  <- desactiva las heuristicas de búsqueda.\n"
   ]
  },
  {
   "cell_type": "code",
   "execution_count": null,
   "metadata": {},
   "outputs": [],
   "source": [
    "function ModeloMISR(familia, integral=1)\n",
    "    # Paso 1, crear modelo. Aqui se usa el parámetro cotatiempo\n",
    "    modeloR = Model(optimizer_with_attributes(\n",
    "                () -> Gurobi.Optimizer(GUROBI_ENV)))\n",
    "    \n",
    "    # Paso 2 cree las variables, objetivo, y restricciones  del modelo\n",
    "    \n",
    "    # sugerencia: use if-else para determinar si cada x es Binaria, o si 0<=x<=1\n",
    "    @variable(..)\n",
    "\n",
    "    @objective(..)\n",
    "    \n",
    "    #sugerencia use restricciones sin nombre\n",
    "    # for ...\n",
    "    #     if(condicion)\n",
    "    #          @constraint(modeloR, ...)\n",
    "    #     end\n",
    "    # end\n",
    "    @constraint(..) \n",
    "        \n",
    "    \n",
    "    # Paso 4, active los 5 parámetros solicitados \n",
    "    Modifica(...)\n",
    "        \n",
    "    return modeloR\n",
    "end"
   ]
  },
  {
   "cell_type": "markdown",
   "metadata": {
    "scrolled": false
   },
   "source": [
    "1.b) \n",
    "Escriba una función ResolverMISR que siga la siguiente sintaxis de entrada y salida:\n",
    "\n",
    "```julia\n",
    "function ResolverMISR(modeloR)\n",
    "    # si no alcanza a terminar (por limite de tiempo)\n",
    "    # debe arrojar un @error(\"Limite de tiempo alcanzado\")\n",
    "    #\n",
    "    # antes de retornar, debe dibujar el conjunto S\n",
    "    return valor_objetivo, S\n",
    "```\n",
    "\n",
    "Aquí `valor_objetivo` es el valor objetivo del problema, y `S` es la submatriz de R con los rectángulos ** en el soporte de la solución ** es decir, los rectángulos $r$ con $x_r>=eps$ para una tolerancia $eps=0.001$.\n",
    "\n",
    "Para escribir la función puede usar la siguiente plantilla."
   ]
  },
  {
   "cell_type": "code",
   "execution_count": null,
   "metadata": {},
   "outputs": [],
   "source": [
    "function ResolverMISR(modeloR)\n",
    "    \n",
    "    # optimizar, extraer objetivos y valores\n",
    "    \n",
    "    optimize!(modeloR)\n",
    "    if termination_status(modeloR) == MOI.TIME_LIMIT\n",
    "        @error(\"Límite de tiempo alcanzado\")\n",
    "    end\n",
    "    \n",
    "    valor_objetivo = ..\n",
    "    eps = 0.001\n",
    "    S = ..  #matriz asociada a los coeficientes de x con valor >=eps\n",
    "    \n",
    "    # dibujar S\n",
    "    \n",
    "    # entregar\n",
    "    return ..\n",
    "    \n",
    "end"
   ]
  },
  {
   "cell_type": "markdown",
   "metadata": {},
   "source": [
    "### 1.c) \n",
    "Ejecute la función ResolverMISR en las instancia de pruebas \"rectangulosxx.csv\" con xx=01, 02, 03.\n",
    "Haga esto para cada una dos veces, de manera integral y fraccional.\n",
    "\n",
    "\n",
    "Verifique si hay alguna instancia en la que la solución integral y la solución fraccional son idénticas.\n",
    "\n",
    "**PREGUNTA**: ¿Por qué cree que esto ocurre? Hint: Visualice las instancias"
   ]
  },
  {
   "cell_type": "code",
   "execution_count": null,
   "metadata": {},
   "outputs": [],
   "source": [
    "ResolverMISR(ModeloMISR(LeeArchivo(\"rectangulos01.csv\"),1))"
   ]
  },
  {
   "cell_type": "code",
   "execution_count": null,
   "metadata": {},
   "outputs": [],
   "source": [
    "ResolverMISR(ModeloMISR(LeeArchivo(\"rectangulos01.csv\"),0))"
   ]
  },
  {
   "cell_type": "code",
   "execution_count": null,
   "metadata": {},
   "outputs": [],
   "source": []
  },
  {
   "cell_type": "code",
   "execution_count": null,
   "metadata": {},
   "outputs": [],
   "source": []
  },
  {
   "cell_type": "code",
   "execution_count": null,
   "metadata": {},
   "outputs": [],
   "source": []
  },
  {
   "cell_type": "markdown",
   "metadata": {},
   "source": [
    "# D. Paralelismo y prioridad de branching"
   ]
  },
  {
   "cell_type": "markdown",
   "metadata": {},
   "source": [
    "Las instancias \"rectangulosxx.csv\" para xx>=04 son bastante más complejas que las 3 primeras y para abordarlas manipularemos los parámetros del solver. \n",
    "\n",
    "### D1 Paralelismo.\n",
    "\n",
    "El parámetro **Threads** (hilos) de Gurobi recibe un número natural $n$. Si $n$ es positivo, entonces Gurobi intentará usar hasta $n$ cores (si es que hay disponibles) para recorrer el árbol de branch and bound. Si $n=0$, Gurobi elige automáticamente el número de hilos a usar (usualmente es el máximo disponible).\n",
    "\n",
    "En general, activar el paralelismo mejora el rendimiento de Gurobi. Son pocos los casos donde conviene usar solo un hilo. Por ejemplo, podría servir si la memoria es escasa o si hay otros procesos importantes corriendo en el mismo computador. También sirve en instancias en las que cerrar el gap de integralidad es complicado.\n",
    "\n",
    "Puede cambiar el número de threads asignado a un modelo usando la función ``Modifica`` que se escribió al principio del laboratorio.\n",
    "\n",
    "```julia\n",
    "Modifica(mimodelo, [\"Threads\" 0]) # Activa paralelismo\n",
    "Modifica(mimodelo, [\"Threads\" 1]) # Desactiva paralelismo: 1 solo thread\n",
    "```\n",
    "\n",
    "### D2 Prioridad de branching.\n",
    "\n",
    "Recordemos que cada vez que el solver encuentra un óptimo (fraccional) de un nodo del árbol de branch and bound, debe decidir en que variable fraccional subdividir (hacer \"branching\"). Usualmente el solver elige adecuadamente de acuerdo a heurísticas internas. Sin embargo, también permite al usuario decidir que variables desea subdividir primero. Para esto, el usuario debe asignar un valor entero, llamado prioridad de branching a cada variable. Cada vez que el solver deba escoger una variable para subdividir, eligirá la variable fraccional con mayor prioridad asignada. \n",
    "\n",
    "En ocasiones el usuario (modelador) puede determinar que variables tienen más influencia en la integralidad de la solución. Por ejemplo, si existe una variable $y$ tal que al fijar $y$ a ser entera automáticamente todas las otras se hacen enteras, puede convenir darle mayor prioridad a dicha variable. \n",
    "\n",
    "En julia, para cambiar la prioridad de la variable ``x[i]`` del modelo ``m`` al valor ``nuevaprioridad`` puede ejecutar el siguiente comando\n",
    "\n",
    "```julia\n",
    "MOI.set(m, Gurobi.VariableAttribute(\"BranchPriority\"), m[:x][i], nuevaprioridad)\n",
    "```\n",
    "\n",
    "En este ejercicio revisaremos el efecto de cambiar la prioridad de branching, dandole mayor prioridad a los rectángulos con mayor área discreta (usaremos nuevaprioridad = areadiscreta del rectángulo correspondiente)"
   ]
  },
  {
   "cell_type": "markdown",
   "metadata": {},
   "source": [
    "## Ejercicio 2:\n",
    "\n",
    "### 2.1\n",
    "Diseñe una función ``test`` que siga la siguiente sintaxis de entrada y salida:\n",
    "\n",
    "```julia\n",
    "function test(nombrearchivo)\n",
    "    # Entrega una tabla df (DataFrame) con 3 atributos \n",
    "    # \"threads\"(0/1), \"prioridades\" (0/1), \"tiempo\" (Float: tiempo de ejecución)\n",
    "    return df\n",
    "```\n",
    "\n",
    "Su tabla se podría ver como sigue (tabla con valores ficticios)"
   ]
  },
  {
   "cell_type": "code",
   "execution_count": null,
   "metadata": {},
   "outputs": [],
   "source": [
    "df = DataFrame(threads = Int8[], prioridades = Int8[], tiempo = Float64[])\n",
    "push!(df, [0, 0, 0.12])\n",
    "push!(df, [1, 0, 0.50])\n",
    "push!(df, [0, 1, 1.99])\n",
    "push!(df, [1, 1, 5.99])\n",
    "show(df)"
   ]
  },
  {
   "cell_type": "markdown",
   "metadata": {},
   "source": [
    "Por ejemplo, la tercera fila de la tabla anterior, se interpreta como que la instancia se resolvió en 1.99 segundos al activar la opción \"threads\" 0, y al usar como prioridades las areas discretas.\n",
    "\n",
    "Puede completar la plantilla de la siguiente celda para entregar su función.\n",
    "\n",
    "** Indicación: ** Use el comando ``t=@elapsed optimize!(m)`` para guardar en ``t``  el tiempo que demora en optimizar el modelo ``m``.\n"
   ]
  },
  {
   "cell_type": "code",
   "execution_count": null,
   "metadata": {},
   "outputs": [],
   "source": [
    "function test(nombrearchivo)\n",
    "    # Recupera familia R\n",
    "    R = ..\n",
    "    # Crear dataframe vacio\n",
    "    df = ..\n",
    "    for threads in 0:1\n",
    "        for prioridades in 0:1\n",
    "            # Crear modelo con opciones estándar\n",
    "            m = ModeloMISR(R)\n",
    "            # Fijar opciones threads \n",
    "            ..\n",
    "            # Cambiar prioridades si es necesario\n",
    "            if (prioridades == 1)\n",
    "                ..\n",
    "            end\n",
    "            \n",
    "            # Optimizar y medir tiempo\n",
    "            t= ..\n",
    "            \n",
    "            # Agregar datos pedidos al dataframe\n",
    "            push!(df, ..)\n",
    "            \n",
    "        end\n",
    "    end\n",
    "    \n",
    "    return df\n",
    "end"
   ]
  },
  {
   "cell_type": "markdown",
   "metadata": {},
   "source": [
    "### 2.2 \n",
    "Pruebe su función test en las 5 primeras instancias de la lista. Cuando termine responda la pregunta al final."
   ]
  },
  {
   "cell_type": "code",
   "execution_count": null,
   "metadata": {},
   "outputs": [],
   "source": [
    "test(\"rectangulos01.csv\")"
   ]
  },
  {
   "cell_type": "code",
   "execution_count": null,
   "metadata": {},
   "outputs": [],
   "source": []
  },
  {
   "cell_type": "code",
   "execution_count": null,
   "metadata": {},
   "outputs": [],
   "source": []
  },
  {
   "cell_type": "code",
   "execution_count": null,
   "metadata": {},
   "outputs": [],
   "source": []
  },
  {
   "cell_type": "code",
   "execution_count": null,
   "metadata": {},
   "outputs": [],
   "source": []
  },
  {
   "cell_type": "markdown",
   "metadata": {},
   "source": [
    "¿Cuál fue la mejor combinación de parámetros encontrados?"
   ]
  },
  {
   "cell_type": "markdown",
   "metadata": {},
   "source": [
    "# E. Uso de Cortes\n",
    "\n",
    "## Ejercicio 3: Activación y desactivación de cortes automáticos.\n",
    "\n",
    "Los solvers como Gurobi no usan Branch and Bound puro, sino que usan una variante conocida como Branch and Cut.\n",
    "En esta variante cada vez que un nodo del árbol de B&B se crea, el solver puede añadir restricciones (cortes)\n",
    "generadas de manera automática. En las últimas clases de este curso veremos algunos de estos en detalle.\n",
    "En este laboratorio, la idea será principalmente entender cual es el efecto de activar o desactivar ciertos cortes \n",
    "en el tiempo de resolución.\n",
    "\n",
    "El parámetro CUTS de gurobi puede tomar valores -1 = automático; 0 = desactivado; 1-2-3 = nivel de agresividad en la generación de cortes de cualquier tipo a no ser que algún tipo específico de corte se active.\n",
    "Gurobi genera cortes específicos, como por ejemplo CliqueCuts, ZeroHalfCuts y RLTCuts. Cada uno de ellos tiene un parámetro asociado que toma el valor -1 = automático; 0 = desactivado; 1-2-3 (o 1-2 en algunos casos) para el nivel de agresividad.\n",
    "\n",
    "En este ejercicio desactivaremos los cortes de manera global y probaremos la eficiencia al activar (fijar en 1) la generación de CliqueCuts, ZeroHalfCuts y RLTCuts. En la última parte del laboratorio estudiaremos los CliqueCuts en detalle.\n",
    "\n",
    "### 3.1\n",
    "Diseñe una función ``testcuts`` que siga la siguiente sintaxis de entrada y salida:\n",
    "\n",
    "```julia\n",
    "function testcuts(nombrearchivo)\n",
    "    # Entrega una tabla df (DataFrame) con 4 atributos \n",
    "    # \"CliqueCuts\"(0/1), \"ZeroHalfCuts\" (0/1), \"RLTCuts\" (0/1), \"tiempo\" (Float: tiempo de ejecución)\n",
    "    return df\n",
    "```\n",
    "de manera similar al ejercicio anterior. Puede seguir la siguiente plantilla\n",
    "\n",
    "\n",
    "\n",
    "\n"
   ]
  },
  {
   "cell_type": "code",
   "execution_count": null,
   "metadata": {},
   "outputs": [],
   "source": [
    "function testcuts(nombrearchivo)\n",
    "    # Recupera familia R\n",
    "    R = ..\n",
    "    # Crear dataframe vacio\n",
    "    df = ..\n",
    "    for ..\n",
    "        for ..\n",
    "            for ..\n",
    "                # Crear modelo con opciones estándar\n",
    "                m = ModeloMISR(R)\n",
    "                \n",
    "                # Active Threads = 0  (de lo contrario podrìa ser muy lento su ejecución)\n",
    "                Modifica(m, [\"Threads\" 0])\n",
    "            \n",
    "                # Fijar resto opciones \n",
    "                ..\n",
    "                # Optimizar y medir tiempo (nota: si llega a tiempo limite, t será aproximadamente 30s)\n",
    "                t= ..\n",
    "            \n",
    "                # Agregar datos pedidos al dataframe\n",
    "                push!(df, ..)\n",
    "            end\n",
    "        end\n",
    "    end\n",
    "    \n",
    "    return df\n",
    "end"
   ]
  },
  {
   "cell_type": "markdown",
   "metadata": {},
   "source": [
    "### 3.2\n",
    "Pruebe su función testcuts en las instancias 6 a 10 de la lista. \n",
    "Observe que luego de optimizar el log de gurobi indica el número de cortes de cada tipo usado en la ejecución.\n",
    "\n",
    "Cuando termine responda la pregunta al final.\n"
   ]
  },
  {
   "cell_type": "code",
   "execution_count": null,
   "metadata": {},
   "outputs": [],
   "source": [
    "testcuts(\"rectangulos06.csv\")"
   ]
  },
  {
   "cell_type": "code",
   "execution_count": null,
   "metadata": {},
   "outputs": [],
   "source": []
  },
  {
   "cell_type": "code",
   "execution_count": null,
   "metadata": {},
   "outputs": [],
   "source": []
  },
  {
   "cell_type": "code",
   "execution_count": null,
   "metadata": {},
   "outputs": [],
   "source": []
  },
  {
   "cell_type": "code",
   "execution_count": null,
   "metadata": {},
   "outputs": [],
   "source": []
  },
  {
   "cell_type": "markdown",
   "metadata": {},
   "source": [
    "¿Cuál fue la mejor combinación de parámetros encontrados?"
   ]
  },
  {
   "cell_type": "markdown",
   "metadata": {},
   "source": [
    "## Ejercicio 4: CliqueCuts de forma manual.\n",
    "\n",
    "Si en un programa binario con variables $\\{x_i\\}_{i\\in [n]}$, dos variables $x_i$ y $x_j$ son tales que ambas no pueden ser 1 simultáneamente, decimos que $\\{i, j\\}$ es un **par conflictivo**. Un clique es un conjunto $C \\subseteq [n]$ tales que para todo $i, j \\in C$, $\\{i, j\\}$ es conflictivo. Un **clique cut** es cualquier desigualdad de la forma $$\\sum_{i\\in C}x_i \\leq 1$$ donde C es un clique maximal.\n",
    "\n",
    "Es fácil ver que los clique cuts son desigualdades válidas para todo programa binario (de hecho, la desigualdad es válida incluso si el clique no es maximal), pero que un programa binario podría tener un número exponencial de clique cuts. \n",
    "\n",
    "GUROBI  es capaz de generar clique cuts de manera bastante razonable pero es más efectivo (en general) introducir estos cortes de manera explícita si es posible hacerlo.\n",
    "\n",
    "Para el problema de conjunto independiente de rectángulos, es relativamente sencillo notar que todo clique máximo\n",
    "corresponde a un conjunto de rectángulos que contienen a un mismo punto. Más aún, si $C$ es un clique entonces el punto\n",
    "con coordenadas más pequeñas contenido en todos los rectángulos del clique $C$ es \n",
    "$(p_C,q_C)=(\\max_{i\\in C}a_i, \\max_{i\\in C}b_i)$,\n",
    "\n",
    "Notamos que $(p_C,q_C)$ es un punto de la grilla $A\\times B$ donde $A=\\{a_i\\colon i\\in [n]\\}$ y $B=\\{b_j\\colon j\\in [n]\\}$. \n",
    "Gracias a la discusión anterior todos los clique cuts son de la forma\n",
    "$$[CQ(p,q)]:\\quad \\sum_{i\\in [n]\\colon \\text{rect}(a_i,b_i,c_i,d_i) \\ni (p,q)} x_i \\leq 1$$\n",
    "\n",
    "Más aún, los clique cuts implican la desigualdad no trivial del modelo (PE), por lo cual podemos crear un modelo (PE2) más fuerte que (PE) como sigue:\n",
    "\n",
    "$$(PE2)\\quad \\begin{align*}\n",
    "  \\max &\\sum_{i=1} x_i\\\\\n",
    "  \\sum_{i\\in [n]\\colon \\text{rect}(a_i,b_i,c_i,d_i) \\ni (p,q)} x_i &\\leq 1\\quad  \\forall (p,q) \\in A\\times B\\\\\n",
    "  x_i &\\in \\{0,1\\}, \\quad \\forall i\\in [n]\n",
    "  \\end{align*}\n",
    "  $$\n",
    "  "
   ]
  },
  {
   "cell_type": "markdown",
   "metadata": {},
   "source": [
    "### 4.1\n",
    "\n",
    "Cree una función\n",
    "```julia\n",
    "function ModeloMISR2(familia)\n",
    "return modeloR\n",
    "```\n",
    "donde la salida es\n",
    "\n",
    "* `modeloR` es un objeto de tipo Model (creado por JuMP) basado en la formulación (PE).\n",
    "\n",
    "y la entrada es\n",
    "\n",
    "* `familia`:  Matriz que tiene los rectángulos de la familia\n",
    "\n",
    "Su función debe fijar los siguientes parámetros en el modelo \n",
    "\n",
    " \"OutputFlag\" 1  <- activa la salida del solver\n",
    " \n",
    " \"TimeLimit\" 30  <- limite de tiempo\n",
    " \n",
    " \"Presolver\" 0   <- desactiva el presolver\n",
    " \n",
    " \"Threads\" 1     <- desactiva el paralelismo (1 solo thread se permite)\n",
    " \n",
    " \"Cuts\" 0        <- desactiva la generación de cortes.\n",
    " \n",
    " \"Heuristics\" 0  <- desactiva las heuristicas de búsqueda."
   ]
  },
  {
   "cell_type": "code",
   "execution_count": null,
   "metadata": {},
   "outputs": [],
   "source": [
    "function ModeloMISR2(familia)\n",
    "..\n",
    "    # Cuidados: Cuando agregue las restricciones al modelo asegúrese de poner solo una restricción por cada par en A x B\n",
    "    # (podrian haber multiples puntos (a_i,b_j) iguales para distintos pares (i,j))\n",
    "    # Le puede servir el comando ?unique\n",
    "..\n",
    "return modeloR"
   ]
  },
  {
   "cell_type": "markdown",
   "metadata": {},
   "source": [
    "## 4.2  \n",
    "\n",
    "Diseñe una función ``testcliquecuts`` que siga la siguiente sintaxis de entrada y salida:\n",
    "\n",
    "```julia\n",
    "function testcliquecuts(nombrearchivo)\n",
    "    # Entrega una tabla df (DataFrame) con 2 atributos \n",
    "    # \"modelo\" (1/2), \"tiempo\" (Float: tiempo de ejecución)\n",
    "    return df\n",
    "```\n",
    "de manera similar al ejercicio anterior. \n",
    "\n",
    "Aquí \"modelo 1\" significa resolver la instancia:\n",
    "* usando ModeloMISR1\n",
    "* activando el parámetro CliqueCuts=1 de gurobi (pero desactivando todos los otros cortes)\n",
    "\n",
    "y \"modelo 2\" significa resolver la instancia:\n",
    "* usando ModeloMISR2\n",
    "* sin activar ningún corte ( CliqueCuts tampoco debe estar activado)\n",
    "\n"
   ]
  },
  {
   "cell_type": "markdown",
   "metadata": {},
   "source": [
    "### 4.3\n",
    "Pruebe su función testcliquecuts en las instancias 6 a 10 de la lista. \n",
    "Cuando termine responda la pregunta al final.\n"
   ]
  },
  {
   "cell_type": "code",
   "execution_count": null,
   "metadata": {},
   "outputs": [],
   "source": []
  },
  {
   "cell_type": "markdown",
   "metadata": {},
   "source": [
    "¿Cuál fue la mejor opción encontrada?"
   ]
  }
 ],
 "metadata": {
  "kernelspec": {
   "display_name": "Julia 1.3.1",
   "language": "julia",
   "name": "julia-1.3"
  },
  "language_info": {
   "file_extension": ".jl",
   "mimetype": "application/julia",
   "name": "julia",
   "version": "1.3.1"
  }
 },
 "nbformat": 4,
 "nbformat_minor": 2
}
