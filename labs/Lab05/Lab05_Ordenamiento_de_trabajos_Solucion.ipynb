{
 "cells": [
  {
   "cell_type": "markdown",
   "metadata": {},
   "source": [
    "# Instrucciones.\n",
    "\n",
    "\n",
    "\n",
    "Debería poder realizar todo el laboratorio en 3 horas.\n",
    "\n",
    "Recomendamos fuertemente que siga trabajando en el laboratorio durante las horas asignadas, pues así puede consultar en vivo dudas que tenga sobre las partes finales del mismo.\n",
    "\n",
    "Parte presencial.\n",
    "* Complete la celda \"A. Datos grupo\".\n",
    "* Descargue los archivos de instancias de ucursos.\n",
    "* Complete las secciones B y C.\n",
    "* Complete los ejercicios 1, 2 y 3 por el modulo de tareas de ucursos en la TAREA: Laboratorio 5 presencial\n",
    "* Plazo de entrega: Miércoles 15 de julio a las 18:00\n",
    "\n",
    "Parte no presencial.\n",
    "* Complete todos los ejercicios (puede actualizar su parte presencial, pero debe INDICAR los cambios, agregándolos al final de la celda de Datos Grupo)\n",
    "* Envie el archivo .ipynb por el modulo de tareas de ucursos en la TAREA: Laboratorio 5 completo\n",
    "* Plazo de entrega: Domingo 19 de julio a las 23:59."
   ]
  },
  {
   "cell_type": "markdown",
   "metadata": {},
   "source": [
    "# A. Datos grupo\n",
    "\n",
    "Escriba en esta celda el nombre de cada integrante de su grupo.\n",
    "\n",
    "- Integrante 1: XXX\n",
    "\n",
    "- Integrante 2: YYY"
   ]
  },
  {
   "cell_type": "markdown",
   "metadata": {},
   "source": [
    " # B. Preparación y Definición del problema\n",
    "\n",
    "\n",
    "Usaremos los paquetes `JuMP, Gurobi, CSV, DataFrames`\n",
    "Si le falta algún paquete instálelo (`using Pkg`; `Pkg.add(\"nombre_paquete\")`) o actualícelo (`Pkg.update(\"nombre_paquete\")`)\n",
    " \n",
    "Al igual que en el laboratorio anterior, cree una constante `GUROBI_ENV` que guarde el ambiente gurobi que usaremos (de modo de evitar múltiples instancias). \n",
    "\n",
    " "
   ]
  },
  {
   "cell_type": "code",
   "execution_count": 1,
   "metadata": {},
   "outputs": [
    {
     "name": "stdout",
     "output_type": "stream",
     "text": [
      "Academic license - for non-commercial use only\n"
     ]
    },
    {
     "data": {
      "text/plain": [
       "Gurobi.Env(Ptr{Nothing} @0x00000000030dd9c0)"
      ]
     },
     "execution_count": 1,
     "metadata": {},
     "output_type": "execute_result"
    }
   ],
   "source": [
    "using JuMP, Gurobi, CSV, DataFrames\n",
    "const GUROBI_ENV = Gurobi.Env()"
   ]
  },
  {
   "cell_type": "markdown",
   "metadata": {
    "scrolled": false
   },
   "source": [
    "Considere el siguiente problema.\n",
    "Se recibe un conjunto de $n$ trabajos $J$. Queremos procesar los trabajos de $J$ en algún orden, en una máquina de modo que cierta función se minimice. Para esto necesitamos un poco de notación\n",
    "\n",
    "* Cada trabajo $s$ en $J$ (piense que $s$ es un nombre), tiene asignado un **tiempo de proceso** $p_s \\in \\mathbb{N}^+$, y un **deadline** $d_s$.\n",
    "\n",
    "* Una **agenda** es un ordenamiento de los trabajos $\\pi\\colon J \\to [n]$, donde $\\pi(s)=i$ si el $i$-ésimo trabajo del órden es el trabajo $s$. Decimos que un trabajo $s$ se procesa antes que un trabajo $t$ si $\\pi(s)<\\pi(t)$.\n",
    "\n",
    "* El **tiempo de partida** $S^{\\pi}_s$ de $s$ de acuerdo a una agenda $\\pi$ es la suma de los tiempos de proceso de todos los trabajos que se procesan antes que $j$. \n",
    "$$S^{\\pi}_s=\\sum_{t\\in J\\colon \\pi(t)<\\pi(s)}p_t$$\n",
    "\n",
    "* El **tiempo de completación** $C^{\\pi}_s$ de $s$ de acuerdo a una agenda $\\pi$ es su tiempo de partida más su tiempo de proceso: \n",
    "$$C^{\\pi}_s=S^{\\pi}_s+p_s =\\sum_{t\\in J\\colon \\pi(t)\\leq \\pi(s)}p_t$$\n",
    "\n",
    "* La **tardanza** de un trabajo $j$ de acuerdo a $\\pi$ es $T^{\\pi}_s= \\max(C^{\\pi}_s-d_s, 0)$\n",
    "\n",
    "El objetivo del problema de las tardanzas es encontrar la agenda que minimiza la tardanza total de todos los trabajos, es decir queremos resolver:\n",
    "$$\\min_{\\pi} \\sum_{s\\in J} T^{\\pi}_s$$\n",
    "\n",
    "Hoy compararemos distintas formulaciones para el problema de las tardanzas (que es NP-difícil) e intentaremos mejorar algunas de ellas.\n"
   ]
  },
  {
   "cell_type": "markdown",
   "metadata": {},
   "source": [
    "# C. Formulaciones #"
   ]
  },
  {
   "cell_type": "markdown",
   "metadata": {},
   "source": [
    "## C1. Formulación indexada por tiempo.###\n",
    "\n",
    "Como la duración de los trabajos es entera positivo, podemos discretizar el tiempo. Sabemos que los tiempos de completación deben ser enteros entre 1 y $𝑃=\\sum_{s\\in J} p_s$, e introducir variables binarias  $C_{s,i}$, que valen 1 si y solo si el trabajo $s$  termina en el tiempo  $i$.\n",
    "\n",
    "Con estas variables el problema se puede formular como\n",
    "\n",
    "\\begin{align*}\n",
    "\\min \\sum_{s\\in J}\\sum_{i=d_s+1}^{P} (i-d_s)C_{s,i}\\\\\n",
    "\\sum_{i=p_s}^{P}C_{s,i} &= 1, \\forall s \\in J\\\\\n",
    "\\sum_{s\\in J}\\sum_{j=i}^{\\min(P,i+p_s-1)}C_{s,j} &\\leq 1, \\forall i \\in [P]\\\\\n",
    "C_{s,i}&\\in \\{0,1\\}\n",
    "\\end{align*}\n",
    "\n"
   ]
  },
  {
   "cell_type": "markdown",
   "metadata": {},
   "source": [
    "## C2. Mediante variables de tiempo de completación. ##\n",
    "\n",
    "Usaremos variables $C_s, T_s$  que representen el tiempo de completación y la tardanza del trabajo $s$ (en rigor, como los tiempos de proceso son números naturales, podríamos fijar $C_s$ a ser entero, esto no es necesario). Además, introducimos variables binarias $y_{s,t}$ para todo $s, t \\in J, s\\neq t$ donde $y_{s,t}=1$ si $s$ se procesa antes que $t$.\n",
    "\n",
    "El problema se puede formular como\n",
    "\n",
    "\\begin{align*}\n",
    "\\min &\\sum_{s\\in J} T_s\\\\\n",
    "T_s&\\geq C_s - d_s, \\forall s \\in J \\\\\n",
    "T_s&\\geq 0, \\forall s \\in J\\\\\n",
    "C_s&\\geq p_s, \\forall s \\in J\\\\\n",
    "C_s+p_t&\\leq C_t + Py_{t,s}, \\forall s,t \\in J\\\\\n",
    "y_{s,t}+y_{t,s}&=1, \\forall s,t \\in J, s\\neq t\\\\\n",
    "y_{s,t}&\\in \\{0,1\\}\n",
    "\\end{align*}\n",
    "\n",
    "Donde $P=\\sum_{s\\in J}p_s$. "
   ]
  },
  {
   "cell_type": "markdown",
   "metadata": {},
   "source": [
    "## C3. Formulación por ordenes totales. ##\n",
    "\n",
    "La idea de esta formulación es parecida a la anterior pero nos permite eliminar el coeficiente $P$ que normalmente dificulta la ejecución de un PLE (formulaciones tipo \"big-M\"). Usamos variables $y_{s,t}$ binarias que valgan 1 cuando el trabajo $s$\n",
    "aparece antes que el trabajo $t$ (o $s=t$). Notamos que las variables definen un orden total si y solo si\n",
    "hay reflexividad, antisimetría y transitividad. Esto se puede imponer pidiendo que para $r, s, t$ se tenga:\n",
    "$y_{s,s}=1$, $y_{s,t}+y_{t,s}=1$ si $s\\neq t$; y que $y_{s,t}+y_{t,r}-1\\leq y_{s,r}$\n",
    "La última ecuación se puede hacer más simétrica notando que solo la necesitamos cuando $s,t,r$ son distintos. En ese caso, podemos reemplazar $y_{s,t}$ por antisimetría y tenemos $y_{s,t}+y_{t,r}+y_{r,s}\\leq 2$\n",
    "\n",
    "\\begin{align*}\n",
    "\\min &\\sum_{s\\in J} T_s\\\\\n",
    "T_s&\\geq C_s - d_s \\\\\n",
    "T_s&\\geq 0\\\\\n",
    "C_s&=\\sum_{t\\in J}y_{t,s}p_t\\\\\n",
    "y_{s,s}&=1\\\\\n",
    "y_{s,t}+y_{t,s}&=1, \\text{si $s\\neq t$}\\\\\n",
    "y_{s,t}+y_{t,r}+y_{r,s}&\\leq 2, \\text{si $r, s, t$ distintos}\\\\\n",
    "y_{s,t}&\\in \\{0,1\\}\n",
    "\\end{align*}\n",
    "\n",
    "\n",
    "\n"
   ]
  },
  {
   "cell_type": "markdown",
   "metadata": {},
   "source": [
    "## C4. Instancias ##\n",
    "\n",
    "La siguiente función permite leer instancias del problema de la tardanza.\n",
    "Modo de uso \n",
    "```julia\n",
    "proceso, deadline = LeeArchivo(nombrearchivo)\n",
    "```"
   ]
  },
  {
   "cell_type": "code",
   "execution_count": 2,
   "metadata": {},
   "outputs": [
    {
     "data": {
      "text/plain": [
       "LeeArchivo (generic function with 1 method)"
      ]
     },
     "execution_count": 2,
     "metadata": {},
     "output_type": "execute_result"
    }
   ],
   "source": [
    "function LeeArchivo(archivocsv)\n",
    "    M= Matrix(CSV.read(archivocsv,  header=0))\n",
    "    return M[1,:], M[2,:]\n",
    "end"
   ]
  },
  {
   "cell_type": "markdown",
   "metadata": {},
   "source": [
    "# D. Ejercicios #\n"
   ]
  },
  {
   "cell_type": "markdown",
   "metadata": {},
   "source": [
    "### Ejercicio 1 ###\n",
    "\n",
    "Implementar las 3 formulaciones en una función \n",
    "\n",
    "```Julia\n",
    "function Tardanza(i, proceso, deadline)\n",
    "return modelo\n",
    "```\n",
    "donde \"i\" es 1, 2, o 3\n",
    "proceso, deadline son arreglos de tamaño $n$ que tienen en su $i$-ésima coordenada, el tiempo de proceso y el deadline del trabajo $i$.\n",
    "\n",
    "**IMPORTANTE** \n",
    "(si no implementa las siguientes caracteristicas tendrá un descuento importante en la revisión)\n",
    "* Agregue como \"warm start\" la solución donde los trabajos están ordenados de $1$ a $n$ (En todos los modelos hay una forma de hacer esto de manera rápida).\n",
    "* Ponga como cota fija de tiempo de ejecución de solver: 30 segundos.\n",
    "\n",
    "Puede probar sus metodos en la instancia **instancia0.csv** que se lee como se indica  en la parte C4. El valor objetivo de dicha instancia es 237."
   ]
  },
  {
   "cell_type": "code",
   "execution_count": 349,
   "metadata": {},
   "outputs": [
    {
     "data": {
      "text/plain": [
       "Tardanza (generic function with 1 method)"
      ]
     },
     "execution_count": 349,
     "metadata": {},
     "output_type": "execute_result"
    }
   ],
   "source": [
    "function Tardanza(i, proceso, deadline)\n",
    "    Tardanza = Model(optimizer_with_attributes(\n",
    "                () -> Gurobi.Optimizer(GUROBI_ENV), \"TimeLimit\" => 30, \"OutputFlag\" => false))\n",
    "    n = length(proceso)\n",
    "    P = sum(proceso)\n",
    "    if i==1\n",
    "        @variable(Tardanza, C[1:n,1:P], Bin)\n",
    "        @constraints(Tardanza, begin\n",
    "        Unico[s=1:n], sum(C[s,i] for i = proceso[s]:P)==1     \n",
    "        Termino[i=1:P], sum(C[s,j] for s=1:n, j=i:min(P,i+proceso[s]-1))<=1         \n",
    "        end)\n",
    "        @objective(Tardanza, Min, sum((i-deadline[s])*C[s,i] for s=1:n, i=deadline[s]+1:P))\n",
    "        auxC=zeros(n,P)\n",
    "        M=0\n",
    "        for i in 1:n\n",
    "                M+=proceso[i]\n",
    "                auxC[i,M]=1\n",
    "        end\n",
    "        set_start_value.(C, auxC)\n",
    "    else\n",
    "        @variables(Tardanza, begin\n",
    "            C[1:n]>=0\n",
    "            T[1:n]>=0\n",
    "            y[1:n, 1:n], Bin\n",
    "        end)\n",
    "        @objective(Tardanza, Min, sum(T) )\n",
    "        @constraints(Tardanza, begin\n",
    "        cota1[s=1:n], T[s]>=C[s]-deadline[s]\n",
    "        anti[s=1:n, t=1:n; s!=t], y[s,t]+y[t,s]==1\n",
    "        end)\n",
    "        if (i==2)\n",
    "           @constraints(Tardanza, begin\n",
    "            cota2[s=1:n], C[s]>=proceso[s]\n",
    "            conflicto[s=1:n, t=1:n; s!=t], C[s]+proceso[t] <= C[t]+P*y[t,s]  \n",
    "            end) \n",
    "        elseif (i==3)\n",
    "            @constraints(Tardanza, begin   \n",
    "            completacion[s=1:n], C[s]==sum(y[t,s]*proceso[t] for t=1:n)\n",
    "            refl[s=1:n], y[s,s]==1\n",
    "            trans[s=1:n, t=1:n, r=1:n; s!=t!=r], y[s,t]+y[t,r]+y[r,s]<=2\n",
    "            end)\n",
    "            \n",
    "        end\n",
    "        auxC=zeros(n)\n",
    "        auxT=zeros(n)\n",
    "        auxy=zeros(n,n)\n",
    "        for i in 1:n, j in 1:n\n",
    "                if i<=j\n",
    "                        auxy[i,j]=1\n",
    "                end\n",
    "        end\n",
    "        M=0\n",
    "        for i in 1:n\n",
    "                M+=proceso[i]\n",
    "                auxC[i]=M\n",
    "                auxT[i]=max(auxC[i]-deadline[i],0)\n",
    "        end\n",
    "        set_start_value.(C, auxC)\n",
    "        set_start_value.(T, auxC)\n",
    "        set_start_value.(y, auxy)\n",
    "    \n",
    "    end\n",
    "    return Tardanza\n",
    "end"
   ]
  },
  {
   "cell_type": "markdown",
   "metadata": {},
   "source": [
    "### Ejercicio 2 ###\n",
    "\n",
    "Implemente una función\n",
    "\n",
    "```julia \n",
    "function Resuelve(i, proceso, deadline)\n",
    "return valor, orden, tiempo, gap\n",
    "```\n",
    "\n",
    "donde la entrada es igual que en la parte anterior. Esta funcion debe devolver\n",
    "\n",
    "valor  = valor objetivo encontrado.\n",
    "orden  = un arreglo con un orden de los trabajos en la solucion encontrada\n",
    "        Ejemplo: [1 3 4 2] significa que la agenda pone a 1 en primer lugar, 3 en segundo, 4 en tercero y 2 en último.\n",
    "        (debido al warm-start de la parte anterior, su programa debería siempre encontrar solución).\n",
    "tiempo = tiempo de ejecución usado\n",
    "gap    = gap de resolución en porcentaje (0% = optimo)\n"
   ]
  },
  {
   "cell_type": "code",
   "execution_count": 340,
   "metadata": {},
   "outputs": [
    {
     "data": {
      "text/plain": [
       "Resuelve (generic function with 1 method)"
      ]
     },
     "execution_count": 340,
     "metadata": {},
     "output_type": "execute_result"
    }
   ],
   "source": [
    "function Resuelve(i, proceso, deadline)\n",
    "    modelo = Tardanza(i, proceso, deadline)\n",
    "    tiempo = @elapsed optimize!(modelo)\n",
    "    \n",
    "    valor = objective_value(modelo)\n",
    "    gap = MOI.get(modelo, MOI.RelativeGap())\n",
    "    \n",
    "    if i==1\n",
    "        C = value.(modelo[:C])\n",
    "        orden = [elem[1] for elem in sort(argmax(C,dims=2), dims=1, rev=false)][:,1]\n",
    "    else\n",
    "        y = value.(modelo[:y])\n",
    "        orden = sortperm(sum(y, dims=2)[:,1], rev=true)\n",
    "    end\n",
    "    \n",
    "    return valor, orden, tiempo, gap\n",
    "end"
   ]
  },
  {
   "cell_type": "code",
   "execution_count": 342,
   "metadata": {},
   "outputs": [
    {
     "data": {
      "text/plain": [
       "([5, 1, 5, 9, 9, 7, 10, 6, 9, 1], [1, 2, 1, 3, 3, 2, 1, 3, 2, 2])"
      ]
     },
     "execution_count": 342,
     "metadata": {},
     "output_type": "execute_result"
    }
   ],
   "source": [
    "proceso, deadline = LeeArchivo(\"instancia0.csv\")"
   ]
  },
  {
   "cell_type": "code",
   "execution_count": 459,
   "metadata": {},
   "outputs": [
    {
     "data": {
      "text/plain": [
       "(237.0, [10, 2, 3, 1, 8, 6, 4, 5, 9, 7], 0.015535632, 0.0)"
      ]
     },
     "execution_count": 459,
     "metadata": {},
     "output_type": "execute_result"
    }
   ],
   "source": [
    "valor, orden, tiempo, gap  = Resuelve(1, proceso, deadline)"
   ]
  },
  {
   "cell_type": "code",
   "execution_count": 460,
   "metadata": {},
   "outputs": [
    {
     "data": {
      "text/plain": [
       "(236.99999999998752, [2, 10, 3, 1, 8, 6, 9, 5, 4, 7], 1.09970163, 0.0)"
      ]
     },
     "execution_count": 460,
     "metadata": {},
     "output_type": "execute_result"
    }
   ],
   "source": [
    "valor, orden, tiempo, gap  = Resuelve(2, proceso, deadline)"
   ]
  },
  {
   "cell_type": "code",
   "execution_count": 461,
   "metadata": {},
   "outputs": [
    {
     "data": {
      "text/plain": [
       "(237.0, [10, 2, 3, 1, 8, 6, 4, 5, 9, 7], 0.00663147, 0.0)"
      ]
     },
     "execution_count": 461,
     "metadata": {},
     "output_type": "execute_result"
    }
   ],
   "source": [
    "valor, orden, tiempo, gap  = Resuelve(3, proceso, deadline)"
   ]
  },
  {
   "cell_type": "markdown",
   "metadata": {},
   "source": [
    "## Symmetry Breaking ##\n",
    "\n",
    "Las instancias provistas tienen mucha simetría. \n",
    "\n",
    "* Si dos trabajos $j$ y $k$ tienen igual tiempo de proceso entonces podemos \"intercambiarlos\" sin  altera la tardanza de ningún trabajo aparte de $j$ y $k$ (todos quedan con su mismo tiempo de completación). Solo cambia la tardanza de $j$ y $k$. De hecho, si llamamos $\\pi$ a la agenda antigua y $\\tau$ a la agenda intercambiada entonces los tiempos de completación de $j$ y de $k$ se intercambian. Luego, la diferencia entre la función objetivo nueva y la antigua es:\n",
    "\n",
    "\\begin{align*}\n",
    "T^\\tau_j + T^\\tau_k - T^\\pi_j - T^\\pi_j &= (C^\\tau_j-d_j) + (C^\\tau_k-d_k) - (C^\\pi_j-d_j) + (C^\\pi_k-d_k)\\\\\n",
    "&= (C^\\pi_k-d_j)+(C^\\pi_j-d_k) - (C^\\pi_j-d_j) + (C^\\pi_k-d_k)=0\n",
    "\\end{align*}\n",
    "\n",
    "En otras palabras, si dos trabajos tienen el mismo tiempo de proceso, su orden relativo no importa y podemos elegir un orden a priori. Tomar decisiones a priori entre variables intercambiables es una manera de romper simetría que podría ayudar a que el árbol de BnB se simplifique (el solver no tiene que realizar el mismo trabajo en dos ramas que son iguales):\n",
    "\n",
    "\n",
    "### Ejercicio 3. ###\n",
    "\n",
    "Elija la formulación que quiera de las 3 y aplique symmetry breaking a los items con igual tiempo de proceso. Más precisamente: cuando escriba el modelo, particione los trabajos en grupos de trabajos con igual tiempo de proceso.\n",
    "En cada grupo decida un orden fijo e imponga ese orden como restricciones adicionales.\n",
    "\n",
    "En particular, cree funciones\n",
    "\n",
    "```Julia\n",
    "function TardanzaSB(proceso, deadline)\n",
    "return modelo\n",
    "```\n",
    "```julia \n",
    "function ResuelveSB(proceso, deadline)\n",
    "return valor, orden, tiempo, gap\n",
    "```\n",
    "que  hagan lo mismo que antes pero con esta formulación."
   ]
  },
  {
   "cell_type": "code",
   "execution_count": 757,
   "metadata": {},
   "outputs": [
    {
     "data": {
      "text/plain": [
       "TardanzaSB (generic function with 1 method)"
      ]
     },
     "execution_count": 757,
     "metadata": {},
     "output_type": "execute_result"
    }
   ],
   "source": [
    "function TardanzaSB(proceso, deadline)\n",
    "    Tardanza = Model(optimizer_with_attributes(\n",
    "                () -> Gurobi.Optimizer(GUROBI_ENV), \"TimeLimit\" => 30, \"OutputFlag\" => false))\n",
    "    n = length(proceso)\n",
    "    P = sum(proceso)\n",
    "    \n",
    "    @variables(Tardanza, begin\n",
    "        C[1:n]>=0\n",
    "        T[1:n]>=0\n",
    "        y[1:n, 1:n], Bin\n",
    "    end)\n",
    "    \n",
    "    grupos = unique(proceso)\n",
    "    m = length(grupos)\n",
    "    for g in grupos\n",
    "        trabajos = findall(x->x==g, proceso)\n",
    "        n_trabajos = length(trabajos)\n",
    "        if n_trabajos>1\n",
    "            trabajos = hcat(trabajos, deadline[trabajos])\n",
    "            prioridad = sortslices(trabajos, dims=1, by=x->x[2],rev=false)[:,1]\n",
    "            for i=1:n_trabajos-1, j=i+1:n_trabajos\n",
    "                fix(y[prioridad[i],prioridad[j]], 1; force=true)\n",
    "            end\n",
    "        end\n",
    "    end\n",
    "    \n",
    "    @objective(Tardanza, Min, sum(T))\n",
    "    @constraints(Tardanza, begin\n",
    "    cota1[s=1:n], T[s]>=C[s]-deadline[s]\n",
    "    anti[s=1:n, t=1:n; s!=t], y[s,t]+y[t,s]==1\n",
    "    completacion[s=1:n], C[s]==sum(y[t,s]*proceso[t] for t=1:n)\n",
    "    refl[s=1:n], y[s,s]==1\n",
    "    trans[s=1:n, t=1:n, r=1:n; s!=t!=r], y[s,t]+y[t,r]+y[r,s]<=2\n",
    "    end)\n",
    "    \n",
    "    return Tardanza\n",
    "    \n",
    "    \n",
    "end"
   ]
  },
  {
   "cell_type": "code",
   "execution_count": 568,
   "metadata": {},
   "outputs": [
    {
     "data": {
      "text/plain": [
       "ResuelveSB (generic function with 1 method)"
      ]
     },
     "execution_count": 568,
     "metadata": {},
     "output_type": "execute_result"
    }
   ],
   "source": [
    "function ResuelveSB(proceso, deadline)\n",
    "    modelo = TardanzaSB(proceso, deadline)\n",
    "    tiempo = @elapsed optimize!(modelo)\n",
    "    valor = objective_value(modelo)\n",
    "    gap = MOI.get(modelo, MOI.RelativeGap())\n",
    "    y = value.(modelo[:y])\n",
    "    orden = sortperm(sum(y, dims=2)[:,1], rev=true)    \n",
    "    \n",
    "return valor, orden, tiempo, gap\n",
    "end"
   ]
  },
  {
   "cell_type": "code",
   "execution_count": 569,
   "metadata": {},
   "outputs": [
    {
     "data": {
      "text/plain": [
       "(237.0, [2, 10, 1, 3, 8, 6, 9, 4, 5, 7], 0.006930358, 0.0)"
      ]
     },
     "execution_count": 569,
     "metadata": {},
     "output_type": "execute_result"
    }
   ],
   "source": [
    "ResuelveSB(proceso, deadline)"
   ]
  },
  {
   "cell_type": "markdown",
   "metadata": {},
   "source": [
    "### Ejercicio 4 ###\n",
    "\n",
    "En este problema deberá comparar las 3 formulaciones simples + la formulación con SB en las 10 instancias provistas \n",
    "instancia0.csv a instancia9.csv cada una con límite de tiempo de 30 segundos (y opciones estándar) \n",
    "    Más precisamente cree una función\n",
    "\n",
    "```Julia\n",
    "function Benchmark()\n",
    "return df\n",
    "```\n",
    "\n",
    "donde df es un `dataframe` cuyas filas están indexadas por instancia, y las columnas son\n",
    "    \n",
    "| tiempo(1) | gap(1) | valor(1) | orden(1) | tiempo(2) | gap(2) | valor(2) | orden(2) | tiempo(3) | gap(3) | valor(3) | orden(3) | tiempo(SB) | gap(SB) | valor(SV) | orden(SB)\n",
    "\n",
    "con\n",
    "tiempo(j) = tiempo usado en la resolución de la instancia, usando formulacion 1\n",
    "gap(j)    = gap de resolución en porcentaje (0% = optimo, infinito si no encontró solución factible)\n",
    "valor(j)  = valor objetivo encontrado (infinito si no encontró solución)\n",
    "orden(j)  = mejor orden encontrado \n"
   ]
  },
  {
   "cell_type": "code",
   "execution_count": 755,
   "metadata": {},
   "outputs": [
    {
     "data": {
      "text/plain": [
       "Benchmark (generic function with 1 method)"
      ]
     },
     "execution_count": 755,
     "metadata": {},
     "output_type": "execute_result"
    }
   ],
   "source": [
    "function Benchmark()\n",
    "    tiempo = zeros((10, 4))\n",
    "    gap = zeros((10, 4))\n",
    "    valor = zeros((10, 4))\n",
    "    orden = []\n",
    "    \n",
    "    for i=1:10\n",
    "        proceso, deadline = LeeArchivo(\"instancia$(i-1).csv\")\n",
    "        valor[i,1], orden1, tiempo[i,1], gap[i,1] = Resuelve(1, proceso, deadline)\n",
    "        valor[i,2], orden2, tiempo[i,2], gap[i,2] = Resuelve(2, proceso, deadline)\n",
    "        valor[i,3], orden3, tiempo[i,3], gap[i,3] = Resuelve(3, proceso, deadline)\n",
    "        valor[i,4], orden4, tiempo[i,4], gap[i,4] = ResuelveSB(proceso, deadline)  \n",
    "        push!(orden, [orden1, orden2, orden3, orden4])\n",
    "        \n",
    "    end\n",
    "    df = DataFrame()\n",
    "    for i=1:4\n",
    "        col_tiempo = \"tiempo$(i)\"\n",
    "        col_gap = \"gap$(i)\"\n",
    "        col_valor = \"valor$(i)\"\n",
    "        col_orden = \"orden$(i)\"\n",
    "        df[!, Symbol(col_tiempo)] =  tiempo[:,i]\n",
    "        df[!, Symbol(col_gap)] =  gap[:,i]\n",
    "        df[!, Symbol(col_valor)] =  valor[:,i]\n",
    "#         df[!, Symbol(col_orden)] =  [orden[j][i] for j=1:10]\n",
    "    end\n",
    "    \n",
    "return df\n",
    "end"
   ]
  },
  {
   "cell_type": "code",
   "execution_count": 759,
   "metadata": {},
   "outputs": [],
   "source": [
    "df = Benchmark();"
   ]
  },
  {
   "cell_type": "code",
   "execution_count": 761,
   "metadata": {},
   "outputs": [
    {
     "data": {
      "text/html": [
       "<table class=\"data-frame\"><thead><tr><th></th><th>tiempo1</th><th>gap1</th><th>valor1</th><th>tiempo2</th><th>gap2</th><th>valor2</th><th>tiempo3</th><th>gap3</th><th>valor3</th><th>tiempo4</th><th>gap4</th><th>valor4</th></tr><tr><th></th><th>Float64</th><th>Float64</th><th>Float64</th><th>Float64</th><th>Float64</th><th>Float64</th><th>Float64</th><th>Float64</th><th>Float64</th><th>Float64</th><th>Float64</th><th>Float64</th></tr></thead><tbody><p>10 rows × 12 columns</p><tr><th>1</th><td>0.0148399</td><td>0.0</td><td>237.0</td><td>1.10915</td><td>0.0</td><td>237.0</td><td>0.00742683</td><td>0.0</td><td>237.0</td><td>0.00602106</td><td>0.0</td><td>237.0</td></tr><tr><th>2</th><td>0.0428588</td><td>0.0</td><td>641.0</td><td>30.005</td><td>0.819701</td><td>650.0</td><td>0.189149</td><td>0.0</td><td>641.0</td><td>0.0631341</td><td>0.0</td><td>641.0</td></tr><tr><th>3</th><td>0.180591</td><td>0.0</td><td>1475.0</td><td>30.0101</td><td>0.901211</td><td>1569.0</td><td>16.7434</td><td>0.0</td><td>1475.0</td><td>0.622297</td><td>0.0</td><td>1475.0</td></tr><tr><th>4</th><td>0.18987</td><td>0.0</td><td>1710.0</td><td>30.0156</td><td>0.916667</td><td>1956.0</td><td>30.2843</td><td>0.0186916</td><td>1712.0</td><td>4.47746</td><td>0.0</td><td>1710.0</td></tr><tr><th>5</th><td>0.555295</td><td>0.0</td><td>3950.0</td><td>30.0489</td><td>0.933783</td><td>4591.0</td><td>30.491</td><td>0.00556962</td><td>3950.0</td><td>18.7776</td><td>0.0</td><td>3950.0</td></tr><tr><th>6</th><td>0.77143</td><td>0.0</td><td>5424.0</td><td>30.0297</td><td>0.947069</td><td>6688.0</td><td>31.0126</td><td>0.0115894</td><td>5436.0</td><td>30.8506</td><td>0.0075576</td><td>5425.0</td></tr><tr><th>7</th><td>0.857711</td><td>0.0</td><td>6262.0</td><td>30.1511</td><td>0.947667</td><td>7930.0</td><td>31.3439</td><td>1.0</td><td>9202.0</td><td>31.383</td><td>0.0103801</td><td>6262.0</td></tr><tr><th>8</th><td>1.76683</td><td>0.0</td><td>10607.0</td><td>30.0584</td><td>0.957102</td><td>12728.0</td><td>32.4811</td><td>1.0</td><td>14507.0</td><td>32.4617</td><td>0.00876201</td><td>10614.0</td></tr><tr><th>9</th><td>2.05128</td><td>0.0</td><td>11775.0</td><td>30.0656</td><td>0.957703</td><td>17590.0</td><td>34.3837</td><td>1.0</td><td>17701.0</td><td>34.3159</td><td>0.902586</td><td>17862.0</td></tr><tr><th>10</th><td>4.70364</td><td>6.70331e-5</td><td>14918.0</td><td>30.0891</td><td>0.965578</td><td>23125.0</td><td>34.3256</td><td>1.0</td><td>23122.0</td><td>34.7514</td><td>0.891256</td><td>23753.0</td></tr></tbody></table>"
      ],
      "text/latex": [
       "\\begin{tabular}{r|cccccccccccc}\n",
       "\t& tiempo1 & gap1 & valor1 & tiempo2 & gap2 & valor2 & tiempo3 & gap3 & valor3 & tiempo4 & gap4 & valor4\\\\\n",
       "\t\\hline\n",
       "\t& Float64 & Float64 & Float64 & Float64 & Float64 & Float64 & Float64 & Float64 & Float64 & Float64 & Float64 & Float64\\\\\n",
       "\t\\hline\n",
       "\t1 & 0.0148399 & 0.0 & 237.0 & 1.10915 & 0.0 & 237.0 & 0.00742683 & 0.0 & 237.0 & 0.00602106 & 0.0 & 237.0 \\\\\n",
       "\t2 & 0.0428588 & 0.0 & 641.0 & 30.005 & 0.819701 & 650.0 & 0.189149 & 0.0 & 641.0 & 0.0631341 & 0.0 & 641.0 \\\\\n",
       "\t3 & 0.180591 & 0.0 & 1475.0 & 30.0101 & 0.901211 & 1569.0 & 16.7434 & 0.0 & 1475.0 & 0.622297 & 0.0 & 1475.0 \\\\\n",
       "\t4 & 0.18987 & 0.0 & 1710.0 & 30.0156 & 0.916667 & 1956.0 & 30.2843 & 0.0186916 & 1712.0 & 4.47746 & 0.0 & 1710.0 \\\\\n",
       "\t5 & 0.555295 & 0.0 & 3950.0 & 30.0489 & 0.933783 & 4591.0 & 30.491 & 0.00556962 & 3950.0 & 18.7776 & 0.0 & 3950.0 \\\\\n",
       "\t6 & 0.77143 & 0.0 & 5424.0 & 30.0297 & 0.947069 & 6688.0 & 31.0126 & 0.0115894 & 5436.0 & 30.8506 & 0.0075576 & 5425.0 \\\\\n",
       "\t7 & 0.857711 & 0.0 & 6262.0 & 30.1511 & 0.947667 & 7930.0 & 31.3439 & 1.0 & 9202.0 & 31.383 & 0.0103801 & 6262.0 \\\\\n",
       "\t8 & 1.76683 & 0.0 & 10607.0 & 30.0584 & 0.957102 & 12728.0 & 32.4811 & 1.0 & 14507.0 & 32.4617 & 0.00876201 & 10614.0 \\\\\n",
       "\t9 & 2.05128 & 0.0 & 11775.0 & 30.0656 & 0.957703 & 17590.0 & 34.3837 & 1.0 & 17701.0 & 34.3159 & 0.902586 & 17862.0 \\\\\n",
       "\t10 & 4.70364 & 6.70331e-5 & 14918.0 & 30.0891 & 0.965578 & 23125.0 & 34.3256 & 1.0 & 23122.0 & 34.7514 & 0.891256 & 23753.0 \\\\\n",
       "\\end{tabular}\n"
      ],
      "text/plain": [
       "10×12 DataFrame. Omitted printing of 3 columns\n",
       "│ Row │ tiempo1   │ gap1       │ valor1  │ tiempo2 │ gap2     │ valor2  │ tiempo3    │ gap3       │ valor3  │\n",
       "│     │ \u001b[90mFloat64\u001b[39m   │ \u001b[90mFloat64\u001b[39m    │ \u001b[90mFloat64\u001b[39m │ \u001b[90mFloat64\u001b[39m │ \u001b[90mFloat64\u001b[39m  │ \u001b[90mFloat64\u001b[39m │ \u001b[90mFloat64\u001b[39m    │ \u001b[90mFloat64\u001b[39m    │ \u001b[90mFloat64\u001b[39m │\n",
       "├─────┼───────────┼────────────┼─────────┼─────────┼──────────┼─────────┼────────────┼────────────┼─────────┤\n",
       "│ 1   │ 0.0148399 │ 0.0        │ 237.0   │ 1.10915 │ 0.0      │ 237.0   │ 0.00742683 │ 0.0        │ 237.0   │\n",
       "│ 2   │ 0.0428588 │ 0.0        │ 641.0   │ 30.005  │ 0.819701 │ 650.0   │ 0.189149   │ 0.0        │ 641.0   │\n",
       "│ 3   │ 0.180591  │ 0.0        │ 1475.0  │ 30.0101 │ 0.901211 │ 1569.0  │ 16.7434    │ 0.0        │ 1475.0  │\n",
       "│ 4   │ 0.18987   │ 0.0        │ 1710.0  │ 30.0156 │ 0.916667 │ 1956.0  │ 30.2843    │ 0.0186916  │ 1712.0  │\n",
       "│ 5   │ 0.555295  │ 0.0        │ 3950.0  │ 30.0489 │ 0.933783 │ 4591.0  │ 30.491     │ 0.00556962 │ 3950.0  │\n",
       "│ 6   │ 0.77143   │ 0.0        │ 5424.0  │ 30.0297 │ 0.947069 │ 6688.0  │ 31.0126    │ 0.0115894  │ 5436.0  │\n",
       "│ 7   │ 0.857711  │ 0.0        │ 6262.0  │ 30.1511 │ 0.947667 │ 7930.0  │ 31.3439    │ 1.0        │ 9202.0  │\n",
       "│ 8   │ 1.76683   │ 0.0        │ 10607.0 │ 30.0584 │ 0.957102 │ 12728.0 │ 32.4811    │ 1.0        │ 14507.0 │\n",
       "│ 9   │ 2.05128   │ 0.0        │ 11775.0 │ 30.0656 │ 0.957703 │ 17590.0 │ 34.3837    │ 1.0        │ 17701.0 │\n",
       "│ 10  │ 4.70364   │ 6.70331e-5 │ 14918.0 │ 30.0891 │ 0.965578 │ 23125.0 │ 34.3256    │ 1.0        │ 23122.0 │"
      ]
     },
     "execution_count": 761,
     "metadata": {},
     "output_type": "execute_result"
    }
   ],
   "source": [
    "ENV[\"COLUMNS\"]=120\n",
    "df"
   ]
  }
 ],
 "metadata": {
  "kernelspec": {
   "display_name": "Julia 1.3.1",
   "language": "julia",
   "name": "julia-1.3"
  },
  "language_info": {
   "file_extension": ".jl",
   "mimetype": "application/julia",
   "name": "julia",
   "version": "1.3.1"
  }
 },
 "nbformat": 4,
 "nbformat_minor": 2
}
